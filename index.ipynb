{
 "cells": [
  {
   "cell_type": "code",
   "execution_count": 79,
   "metadata": {},
   "outputs": [],
   "source": [
    "# Warning: Notebook can take around 5 minutes to run"
   ]
  },
  {
   "cell_type": "code",
   "execution_count": 1,
   "metadata": {},
   "outputs": [],
   "source": [
    "import time\n",
    "start_time = time.time()\n",
    "\n",
    "\n",
    "import pandas as pd\n",
    "import numpy as np\n",
    "from matplotlib import pyplot as plt\n",
    "plt.style.use('ggplot')\n",
    "import seaborn as sns\n",
    "\n",
    "from sklearn.linear_model import LogisticRegression\n",
    "from sklearn.model_selection import train_test_split, GridSearchCV, cross_val_score, cross_validate\n",
    "from sklearn.pipeline import Pipeline\n",
    "from sklearn.preprocessing import StandardScaler, MinMaxScaler, OneHotEncoder, \\\n",
    "    FunctionTransformer, OrdinalEncoder\n",
    "from sklearn.impute import SimpleImputer, KNNImputer\n",
    "from sklearn.compose import ColumnTransformer\n",
    "from sklearn.linear_model import LogisticRegression\n",
    "from sklearn.ensemble import RandomForestClassifier, GradientBoostingClassifier, AdaBoostClassifier, \\\n",
    "    HistGradientBoostingClassifier\n",
    "from sklearn.tree import DecisionTreeClassifier\n",
    "from sklearn.neighbors import KNeighborsClassifier, NearestNeighbors\n",
    "from sklearn.metrics import confusion_matrix, plot_confusion_matrix, recall_score,\\\n",
    "    accuracy_score, precision_score, f1_score, classification_report, roc_auc_score, \\\n",
    "    plot_roc_curve, make_scorer, get_scorer\n",
    "\n",
    "from xgboost import XGBClassifier\n",
    "\n",
    "from imblearn.over_sampling import SMOTE\n",
    "from imblearn.pipeline import Pipeline as ImPipeline\n",
    "\n",
    "pd.options.display.max_columns = None\n",
    "seed = 50"
   ]
  },
  {
   "cell_type": "markdown",
   "metadata": {},
   "source": [
    "**Reading in the dataset**. This is from an online competition on DrivenData, so the provided test set doesn't have labels. For this reason I'll treat the provided training set and labels as a the whole dataset, on which I will later peform a train-test split."
   ]
  },
  {
   "cell_type": "code",
   "execution_count": 2,
   "metadata": {},
   "outputs": [],
   "source": [
    "features = pd.read_csv('data/training_set_features.csv')\n",
    "target = pd.read_csv('data/training_set_labels.csv')"
   ]
  },
  {
   "cell_type": "code",
   "execution_count": 3,
   "metadata": {},
   "outputs": [],
   "source": [
    "data = pd.concat([features, target], axis=1)"
   ]
  },
  {
   "cell_type": "code",
   "execution_count": 4,
   "metadata": {},
   "outputs": [],
   "source": [
    "data = data.drop(columns=['respondent_id', 'seasonal_vaccine'])"
   ]
  },
  {
   "cell_type": "code",
   "execution_count": 5,
   "metadata": {},
   "outputs": [
    {
     "data": {
      "text/html": [
       "<div>\n",
       "<style scoped>\n",
       "    .dataframe tbody tr th:only-of-type {\n",
       "        vertical-align: middle;\n",
       "    }\n",
       "\n",
       "    .dataframe tbody tr th {\n",
       "        vertical-align: top;\n",
       "    }\n",
       "\n",
       "    .dataframe thead th {\n",
       "        text-align: right;\n",
       "    }\n",
       "</style>\n",
       "<table border=\"1\" class=\"dataframe\">\n",
       "  <thead>\n",
       "    <tr style=\"text-align: right;\">\n",
       "      <th></th>\n",
       "      <th>h1n1_concern</th>\n",
       "      <th>h1n1_knowledge</th>\n",
       "      <th>behavioral_antiviral_meds</th>\n",
       "      <th>behavioral_avoidance</th>\n",
       "      <th>behavioral_face_mask</th>\n",
       "      <th>behavioral_wash_hands</th>\n",
       "      <th>behavioral_large_gatherings</th>\n",
       "      <th>behavioral_outside_home</th>\n",
       "      <th>behavioral_touch_face</th>\n",
       "      <th>doctor_recc_h1n1</th>\n",
       "      <th>doctor_recc_seasonal</th>\n",
       "      <th>chronic_med_condition</th>\n",
       "      <th>child_under_6_months</th>\n",
       "      <th>health_worker</th>\n",
       "      <th>health_insurance</th>\n",
       "      <th>opinion_h1n1_vacc_effective</th>\n",
       "      <th>opinion_h1n1_risk</th>\n",
       "      <th>opinion_h1n1_sick_from_vacc</th>\n",
       "      <th>opinion_seas_vacc_effective</th>\n",
       "      <th>opinion_seas_risk</th>\n",
       "      <th>opinion_seas_sick_from_vacc</th>\n",
       "      <th>age_group</th>\n",
       "      <th>education</th>\n",
       "      <th>race</th>\n",
       "      <th>sex</th>\n",
       "      <th>income_poverty</th>\n",
       "      <th>marital_status</th>\n",
       "      <th>rent_or_own</th>\n",
       "      <th>employment_status</th>\n",
       "      <th>hhs_geo_region</th>\n",
       "      <th>census_msa</th>\n",
       "      <th>household_adults</th>\n",
       "      <th>household_children</th>\n",
       "      <th>employment_industry</th>\n",
       "      <th>employment_occupation</th>\n",
       "      <th>h1n1_vaccine</th>\n",
       "    </tr>\n",
       "  </thead>\n",
       "  <tbody>\n",
       "    <tr>\n",
       "      <th>0</th>\n",
       "      <td>1.0</td>\n",
       "      <td>0.0</td>\n",
       "      <td>0.0</td>\n",
       "      <td>0.0</td>\n",
       "      <td>0.0</td>\n",
       "      <td>0.0</td>\n",
       "      <td>0.0</td>\n",
       "      <td>1.0</td>\n",
       "      <td>1.0</td>\n",
       "      <td>0.0</td>\n",
       "      <td>0.0</td>\n",
       "      <td>0.0</td>\n",
       "      <td>0.0</td>\n",
       "      <td>0.0</td>\n",
       "      <td>1.0</td>\n",
       "      <td>3.0</td>\n",
       "      <td>1.0</td>\n",
       "      <td>2.0</td>\n",
       "      <td>2.0</td>\n",
       "      <td>1.0</td>\n",
       "      <td>2.0</td>\n",
       "      <td>55 - 64 Years</td>\n",
       "      <td>&lt; 12 Years</td>\n",
       "      <td>White</td>\n",
       "      <td>Female</td>\n",
       "      <td>Below Poverty</td>\n",
       "      <td>Not Married</td>\n",
       "      <td>Own</td>\n",
       "      <td>Not in Labor Force</td>\n",
       "      <td>oxchjgsf</td>\n",
       "      <td>Non-MSA</td>\n",
       "      <td>0.0</td>\n",
       "      <td>0.0</td>\n",
       "      <td>NaN</td>\n",
       "      <td>NaN</td>\n",
       "      <td>0</td>\n",
       "    </tr>\n",
       "    <tr>\n",
       "      <th>1</th>\n",
       "      <td>3.0</td>\n",
       "      <td>2.0</td>\n",
       "      <td>0.0</td>\n",
       "      <td>1.0</td>\n",
       "      <td>0.0</td>\n",
       "      <td>1.0</td>\n",
       "      <td>0.0</td>\n",
       "      <td>1.0</td>\n",
       "      <td>1.0</td>\n",
       "      <td>0.0</td>\n",
       "      <td>0.0</td>\n",
       "      <td>0.0</td>\n",
       "      <td>0.0</td>\n",
       "      <td>0.0</td>\n",
       "      <td>1.0</td>\n",
       "      <td>5.0</td>\n",
       "      <td>4.0</td>\n",
       "      <td>4.0</td>\n",
       "      <td>4.0</td>\n",
       "      <td>2.0</td>\n",
       "      <td>4.0</td>\n",
       "      <td>35 - 44 Years</td>\n",
       "      <td>12 Years</td>\n",
       "      <td>White</td>\n",
       "      <td>Male</td>\n",
       "      <td>Below Poverty</td>\n",
       "      <td>Not Married</td>\n",
       "      <td>Rent</td>\n",
       "      <td>Employed</td>\n",
       "      <td>bhuqouqj</td>\n",
       "      <td>MSA, Not Principle  City</td>\n",
       "      <td>0.0</td>\n",
       "      <td>0.0</td>\n",
       "      <td>pxcmvdjn</td>\n",
       "      <td>xgwztkwe</td>\n",
       "      <td>0</td>\n",
       "    </tr>\n",
       "    <tr>\n",
       "      <th>2</th>\n",
       "      <td>1.0</td>\n",
       "      <td>1.0</td>\n",
       "      <td>0.0</td>\n",
       "      <td>1.0</td>\n",
       "      <td>0.0</td>\n",
       "      <td>0.0</td>\n",
       "      <td>0.0</td>\n",
       "      <td>0.0</td>\n",
       "      <td>0.0</td>\n",
       "      <td>NaN</td>\n",
       "      <td>NaN</td>\n",
       "      <td>1.0</td>\n",
       "      <td>0.0</td>\n",
       "      <td>0.0</td>\n",
       "      <td>NaN</td>\n",
       "      <td>3.0</td>\n",
       "      <td>1.0</td>\n",
       "      <td>1.0</td>\n",
       "      <td>4.0</td>\n",
       "      <td>1.0</td>\n",
       "      <td>2.0</td>\n",
       "      <td>18 - 34 Years</td>\n",
       "      <td>College Graduate</td>\n",
       "      <td>White</td>\n",
       "      <td>Male</td>\n",
       "      <td>&lt;= $75,000, Above Poverty</td>\n",
       "      <td>Not Married</td>\n",
       "      <td>Own</td>\n",
       "      <td>Employed</td>\n",
       "      <td>qufhixun</td>\n",
       "      <td>MSA, Not Principle  City</td>\n",
       "      <td>2.0</td>\n",
       "      <td>0.0</td>\n",
       "      <td>rucpziij</td>\n",
       "      <td>xtkaffoo</td>\n",
       "      <td>0</td>\n",
       "    </tr>\n",
       "    <tr>\n",
       "      <th>3</th>\n",
       "      <td>1.0</td>\n",
       "      <td>1.0</td>\n",
       "      <td>0.0</td>\n",
       "      <td>1.0</td>\n",
       "      <td>0.0</td>\n",
       "      <td>1.0</td>\n",
       "      <td>1.0</td>\n",
       "      <td>0.0</td>\n",
       "      <td>0.0</td>\n",
       "      <td>0.0</td>\n",
       "      <td>1.0</td>\n",
       "      <td>1.0</td>\n",
       "      <td>0.0</td>\n",
       "      <td>0.0</td>\n",
       "      <td>NaN</td>\n",
       "      <td>3.0</td>\n",
       "      <td>3.0</td>\n",
       "      <td>5.0</td>\n",
       "      <td>5.0</td>\n",
       "      <td>4.0</td>\n",
       "      <td>1.0</td>\n",
       "      <td>65+ Years</td>\n",
       "      <td>12 Years</td>\n",
       "      <td>White</td>\n",
       "      <td>Female</td>\n",
       "      <td>Below Poverty</td>\n",
       "      <td>Not Married</td>\n",
       "      <td>Rent</td>\n",
       "      <td>Not in Labor Force</td>\n",
       "      <td>lrircsnp</td>\n",
       "      <td>MSA, Principle City</td>\n",
       "      <td>0.0</td>\n",
       "      <td>0.0</td>\n",
       "      <td>NaN</td>\n",
       "      <td>NaN</td>\n",
       "      <td>0</td>\n",
       "    </tr>\n",
       "    <tr>\n",
       "      <th>4</th>\n",
       "      <td>2.0</td>\n",
       "      <td>1.0</td>\n",
       "      <td>0.0</td>\n",
       "      <td>1.0</td>\n",
       "      <td>0.0</td>\n",
       "      <td>1.0</td>\n",
       "      <td>1.0</td>\n",
       "      <td>0.0</td>\n",
       "      <td>1.0</td>\n",
       "      <td>0.0</td>\n",
       "      <td>0.0</td>\n",
       "      <td>0.0</td>\n",
       "      <td>0.0</td>\n",
       "      <td>0.0</td>\n",
       "      <td>NaN</td>\n",
       "      <td>3.0</td>\n",
       "      <td>3.0</td>\n",
       "      <td>2.0</td>\n",
       "      <td>3.0</td>\n",
       "      <td>1.0</td>\n",
       "      <td>4.0</td>\n",
       "      <td>45 - 54 Years</td>\n",
       "      <td>Some College</td>\n",
       "      <td>White</td>\n",
       "      <td>Female</td>\n",
       "      <td>&lt;= $75,000, Above Poverty</td>\n",
       "      <td>Married</td>\n",
       "      <td>Own</td>\n",
       "      <td>Employed</td>\n",
       "      <td>qufhixun</td>\n",
       "      <td>MSA, Not Principle  City</td>\n",
       "      <td>1.0</td>\n",
       "      <td>0.0</td>\n",
       "      <td>wxleyezf</td>\n",
       "      <td>emcorrxb</td>\n",
       "      <td>0</td>\n",
       "    </tr>\n",
       "  </tbody>\n",
       "</table>\n",
       "</div>"
      ],
      "text/plain": [
       "   h1n1_concern  h1n1_knowledge  behavioral_antiviral_meds  \\\n",
       "0           1.0             0.0                        0.0   \n",
       "1           3.0             2.0                        0.0   \n",
       "2           1.0             1.0                        0.0   \n",
       "3           1.0             1.0                        0.0   \n",
       "4           2.0             1.0                        0.0   \n",
       "\n",
       "   behavioral_avoidance  behavioral_face_mask  behavioral_wash_hands  \\\n",
       "0                   0.0                   0.0                    0.0   \n",
       "1                   1.0                   0.0                    1.0   \n",
       "2                   1.0                   0.0                    0.0   \n",
       "3                   1.0                   0.0                    1.0   \n",
       "4                   1.0                   0.0                    1.0   \n",
       "\n",
       "   behavioral_large_gatherings  behavioral_outside_home  \\\n",
       "0                          0.0                      1.0   \n",
       "1                          0.0                      1.0   \n",
       "2                          0.0                      0.0   \n",
       "3                          1.0                      0.0   \n",
       "4                          1.0                      0.0   \n",
       "\n",
       "   behavioral_touch_face  doctor_recc_h1n1  doctor_recc_seasonal  \\\n",
       "0                    1.0               0.0                   0.0   \n",
       "1                    1.0               0.0                   0.0   \n",
       "2                    0.0               NaN                   NaN   \n",
       "3                    0.0               0.0                   1.0   \n",
       "4                    1.0               0.0                   0.0   \n",
       "\n",
       "   chronic_med_condition  child_under_6_months  health_worker  \\\n",
       "0                    0.0                   0.0            0.0   \n",
       "1                    0.0                   0.0            0.0   \n",
       "2                    1.0                   0.0            0.0   \n",
       "3                    1.0                   0.0            0.0   \n",
       "4                    0.0                   0.0            0.0   \n",
       "\n",
       "   health_insurance  opinion_h1n1_vacc_effective  opinion_h1n1_risk  \\\n",
       "0               1.0                          3.0                1.0   \n",
       "1               1.0                          5.0                4.0   \n",
       "2               NaN                          3.0                1.0   \n",
       "3               NaN                          3.0                3.0   \n",
       "4               NaN                          3.0                3.0   \n",
       "\n",
       "   opinion_h1n1_sick_from_vacc  opinion_seas_vacc_effective  \\\n",
       "0                          2.0                          2.0   \n",
       "1                          4.0                          4.0   \n",
       "2                          1.0                          4.0   \n",
       "3                          5.0                          5.0   \n",
       "4                          2.0                          3.0   \n",
       "\n",
       "   opinion_seas_risk  opinion_seas_sick_from_vacc      age_group  \\\n",
       "0                1.0                          2.0  55 - 64 Years   \n",
       "1                2.0                          4.0  35 - 44 Years   \n",
       "2                1.0                          2.0  18 - 34 Years   \n",
       "3                4.0                          1.0      65+ Years   \n",
       "4                1.0                          4.0  45 - 54 Years   \n",
       "\n",
       "          education   race     sex             income_poverty marital_status  \\\n",
       "0        < 12 Years  White  Female              Below Poverty    Not Married   \n",
       "1          12 Years  White    Male              Below Poverty    Not Married   \n",
       "2  College Graduate  White    Male  <= $75,000, Above Poverty    Not Married   \n",
       "3          12 Years  White  Female              Below Poverty    Not Married   \n",
       "4      Some College  White  Female  <= $75,000, Above Poverty        Married   \n",
       "\n",
       "  rent_or_own   employment_status hhs_geo_region                census_msa  \\\n",
       "0         Own  Not in Labor Force       oxchjgsf                   Non-MSA   \n",
       "1        Rent            Employed       bhuqouqj  MSA, Not Principle  City   \n",
       "2         Own            Employed       qufhixun  MSA, Not Principle  City   \n",
       "3        Rent  Not in Labor Force       lrircsnp       MSA, Principle City   \n",
       "4         Own            Employed       qufhixun  MSA, Not Principle  City   \n",
       "\n",
       "   household_adults  household_children employment_industry  \\\n",
       "0               0.0                 0.0                 NaN   \n",
       "1               0.0                 0.0            pxcmvdjn   \n",
       "2               2.0                 0.0            rucpziij   \n",
       "3               0.0                 0.0                 NaN   \n",
       "4               1.0                 0.0            wxleyezf   \n",
       "\n",
       "  employment_occupation  h1n1_vaccine  \n",
       "0                   NaN             0  \n",
       "1              xgwztkwe             0  \n",
       "2              xtkaffoo             0  \n",
       "3                   NaN             0  \n",
       "4              emcorrxb             0  "
      ]
     },
     "execution_count": 5,
     "metadata": {},
     "output_type": "execute_result"
    }
   ],
   "source": [
    "data.head()"
   ]
  },
  {
   "cell_type": "code",
   "execution_count": 6,
   "metadata": {},
   "outputs": [
    {
     "name": "stdout",
     "output_type": "stream",
     "text": [
      "<class 'pandas.core.frame.DataFrame'>\n",
      "RangeIndex: 26707 entries, 0 to 26706\n",
      "Data columns (total 36 columns):\n",
      " #   Column                       Non-Null Count  Dtype  \n",
      "---  ------                       --------------  -----  \n",
      " 0   h1n1_concern                 26615 non-null  float64\n",
      " 1   h1n1_knowledge               26591 non-null  float64\n",
      " 2   behavioral_antiviral_meds    26636 non-null  float64\n",
      " 3   behavioral_avoidance         26499 non-null  float64\n",
      " 4   behavioral_face_mask         26688 non-null  float64\n",
      " 5   behavioral_wash_hands        26665 non-null  float64\n",
      " 6   behavioral_large_gatherings  26620 non-null  float64\n",
      " 7   behavioral_outside_home      26625 non-null  float64\n",
      " 8   behavioral_touch_face        26579 non-null  float64\n",
      " 9   doctor_recc_h1n1             24547 non-null  float64\n",
      " 10  doctor_recc_seasonal         24547 non-null  float64\n",
      " 11  chronic_med_condition        25736 non-null  float64\n",
      " 12  child_under_6_months         25887 non-null  float64\n",
      " 13  health_worker                25903 non-null  float64\n",
      " 14  health_insurance             14433 non-null  float64\n",
      " 15  opinion_h1n1_vacc_effective  26316 non-null  float64\n",
      " 16  opinion_h1n1_risk            26319 non-null  float64\n",
      " 17  opinion_h1n1_sick_from_vacc  26312 non-null  float64\n",
      " 18  opinion_seas_vacc_effective  26245 non-null  float64\n",
      " 19  opinion_seas_risk            26193 non-null  float64\n",
      " 20  opinion_seas_sick_from_vacc  26170 non-null  float64\n",
      " 21  age_group                    26707 non-null  object \n",
      " 22  education                    25300 non-null  object \n",
      " 23  race                         26707 non-null  object \n",
      " 24  sex                          26707 non-null  object \n",
      " 25  income_poverty               22284 non-null  object \n",
      " 26  marital_status               25299 non-null  object \n",
      " 27  rent_or_own                  24665 non-null  object \n",
      " 28  employment_status            25244 non-null  object \n",
      " 29  hhs_geo_region               26707 non-null  object \n",
      " 30  census_msa                   26707 non-null  object \n",
      " 31  household_adults             26458 non-null  float64\n",
      " 32  household_children           26458 non-null  float64\n",
      " 33  employment_industry          13377 non-null  object \n",
      " 34  employment_occupation        13237 non-null  object \n",
      " 35  h1n1_vaccine                 26707 non-null  int64  \n",
      "dtypes: float64(23), int64(1), object(12)\n",
      "memory usage: 7.3+ MB\n"
     ]
    }
   ],
   "source": [
    "data.info()"
   ]
  },
  {
   "cell_type": "code",
   "execution_count": 7,
   "metadata": {},
   "outputs": [
    {
     "data": {
      "text/plain": [
       "h1n1_concern                    0.344479\n",
       "h1n1_knowledge                  0.434343\n",
       "behavioral_antiviral_meds       0.265848\n",
       "behavioral_avoidance            0.778822\n",
       "behavioral_face_mask            0.071142\n",
       "behavioral_wash_hands           0.157262\n",
       "behavioral_large_gatherings     0.325757\n",
       "behavioral_outside_home         0.307036\n",
       "behavioral_touch_face           0.479275\n",
       "doctor_recc_h1n1                8.087767\n",
       "doctor_recc_seasonal            8.087767\n",
       "chronic_med_condition           3.635751\n",
       "child_under_6_months            3.070356\n",
       "health_worker                   3.010447\n",
       "health_insurance               45.957989\n",
       "opinion_h1n1_vacc_effective     1.464036\n",
       "opinion_h1n1_risk               1.452803\n",
       "opinion_h1n1_sick_from_vacc     1.479013\n",
       "opinion_seas_vacc_effective     1.729884\n",
       "opinion_seas_risk               1.924589\n",
       "opinion_seas_sick_from_vacc     2.010709\n",
       "age_group                       0.000000\n",
       "education                       5.268282\n",
       "race                            0.000000\n",
       "sex                             0.000000\n",
       "income_poverty                 16.561201\n",
       "marital_status                  5.272026\n",
       "rent_or_own                     7.645936\n",
       "employment_status               5.477965\n",
       "hhs_geo_region                  0.000000\n",
       "census_msa                      0.000000\n",
       "household_adults                0.932340\n",
       "household_children              0.932340\n",
       "employment_industry            49.912008\n",
       "employment_occupation          50.436215\n",
       "h1n1_vaccine                    0.000000\n",
       "dtype: float64"
      ]
     },
     "execution_count": 7,
     "metadata": {},
     "output_type": "execute_result"
    }
   ],
   "source": [
    "(data.isna().sum() / len(data)) * 100"
   ]
  },
  {
   "cell_type": "markdown",
   "metadata": {},
   "source": [
    "#### Observations:\n",
    "There are several features with a large amount of data missing. I'll have to decide if I should impute them with some value or drop them. \n",
    "\n",
    "In particular, `health_insurance` has 46% of its data missing, but I would rather not drop that whole feature because it seems pertinent to the matter of taking an H1N1 vaccine. \n",
    "\n",
    "`employment_industry` and `employment_occupation` have half their data missing. The values are encoded in an odd way and are not interpretable, so I'll drop these columns."
   ]
  },
  {
   "cell_type": "code",
   "execution_count": 8,
   "metadata": {},
   "outputs": [],
   "source": [
    "X = data.drop(columns=['h1n1_vaccine', 'employment_industry', 'employment_occupation'])\n",
    "y = data['h1n1_vaccine']"
   ]
  },
  {
   "cell_type": "markdown",
   "metadata": {},
   "source": [
    "#### Train-test split"
   ]
  },
  {
   "cell_type": "code",
   "execution_count": 9,
   "metadata": {},
   "outputs": [],
   "source": [
    "X_train, X_test, y_train, y_test = train_test_split(X, y, random_state=seed)"
   ]
  },
  {
   "cell_type": "code",
   "execution_count": 10,
   "metadata": {},
   "outputs": [],
   "source": [
    "# Separate numerical and object columns in order to use different imputing strategies\n",
    "\n",
    "X_train_num = X_train.select_dtypes('number')\n",
    "X_train_obj = X_train.select_dtypes('object')\n",
    "\n",
    "# Encoding object columns with numbers\n",
    "\n",
    "ord_encoder = OrdinalEncoder()\n",
    "X_train_obj = pd.DataFrame(ord_encoder.fit_transform(X_train_obj), columns=X_train_obj.columns, index=X_train_obj.index)"
   ]
  },
  {
   "cell_type": "markdown",
   "metadata": {},
   "source": [
    "#### Imputing all missing values with the mean or most nearest neighbor"
   ]
  },
  {
   "cell_type": "code",
   "execution_count": 11,
   "metadata": {},
   "outputs": [],
   "source": [
    "num_imputer = SimpleImputer(strategy='mean')\n",
    "obj_imputer = KNNImputer()"
   ]
  },
  {
   "cell_type": "code",
   "execution_count": 12,
   "metadata": {},
   "outputs": [],
   "source": [
    "# Imputing missing numerical values with the mean from that column\n",
    "imputed_x_train_num = pd.DataFrame(num_imputer.fit_transform(X_train_num), columns=X_train_num.columns, index=X_train_num.index)\n",
    "\n",
    "# Imputing missing numerical values with the nearest neighbor\n",
    "imputed_x_train_obj = obj_imputer.fit_transform(X_train_obj)\n",
    "\n",
    "# Undoing the ordinal encoding, in order to one-hot encode\n",
    "imputed_x_train_obj = pd.DataFrame(ord_encoder.inverse_transform(imputed_x_train_obj), columns=X_train_obj.columns, index=X_train_obj.index)\n",
    "\n",
    "# Combining the numerical and object data\n",
    "X_train_imp = pd.concat(\n",
    "    [\n",
    "       imputed_x_train_num,\n",
    "       imputed_x_train_obj\n",
    "    ],\n",
    "    axis=1\n",
    ")"
   ]
  },
  {
   "cell_type": "code",
   "execution_count": 13,
   "metadata": {},
   "outputs": [
    {
     "data": {
      "text/html": [
       "<div>\n",
       "<style scoped>\n",
       "    .dataframe tbody tr th:only-of-type {\n",
       "        vertical-align: middle;\n",
       "    }\n",
       "\n",
       "    .dataframe tbody tr th {\n",
       "        vertical-align: top;\n",
       "    }\n",
       "\n",
       "    .dataframe thead th {\n",
       "        text-align: right;\n",
       "    }\n",
       "</style>\n",
       "<table border=\"1\" class=\"dataframe\">\n",
       "  <thead>\n",
       "    <tr style=\"text-align: right;\">\n",
       "      <th></th>\n",
       "      <th>h1n1_concern</th>\n",
       "      <th>h1n1_knowledge</th>\n",
       "      <th>behavioral_antiviral_meds</th>\n",
       "      <th>behavioral_avoidance</th>\n",
       "      <th>behavioral_face_mask</th>\n",
       "      <th>behavioral_wash_hands</th>\n",
       "      <th>behavioral_large_gatherings</th>\n",
       "      <th>behavioral_outside_home</th>\n",
       "      <th>behavioral_touch_face</th>\n",
       "      <th>doctor_recc_h1n1</th>\n",
       "      <th>doctor_recc_seasonal</th>\n",
       "      <th>chronic_med_condition</th>\n",
       "      <th>child_under_6_months</th>\n",
       "      <th>health_worker</th>\n",
       "      <th>health_insurance</th>\n",
       "      <th>opinion_h1n1_vacc_effective</th>\n",
       "      <th>opinion_h1n1_risk</th>\n",
       "      <th>opinion_h1n1_sick_from_vacc</th>\n",
       "      <th>opinion_seas_vacc_effective</th>\n",
       "      <th>opinion_seas_risk</th>\n",
       "      <th>opinion_seas_sick_from_vacc</th>\n",
       "      <th>household_adults</th>\n",
       "      <th>household_children</th>\n",
       "      <th>age_group</th>\n",
       "      <th>education</th>\n",
       "      <th>race</th>\n",
       "      <th>sex</th>\n",
       "      <th>income_poverty</th>\n",
       "      <th>marital_status</th>\n",
       "      <th>rent_or_own</th>\n",
       "      <th>employment_status</th>\n",
       "      <th>hhs_geo_region</th>\n",
       "      <th>census_msa</th>\n",
       "    </tr>\n",
       "  </thead>\n",
       "  <tbody>\n",
       "    <tr>\n",
       "      <th>16087</th>\n",
       "      <td>1.0</td>\n",
       "      <td>1.0</td>\n",
       "      <td>0.0</td>\n",
       "      <td>1.0</td>\n",
       "      <td>0.0</td>\n",
       "      <td>1.0</td>\n",
       "      <td>0.0</td>\n",
       "      <td>0.0</td>\n",
       "      <td>1.0</td>\n",
       "      <td>0.0</td>\n",
       "      <td>0.0</td>\n",
       "      <td>1.0</td>\n",
       "      <td>0.0</td>\n",
       "      <td>0.0</td>\n",
       "      <td>1.000000</td>\n",
       "      <td>5.0</td>\n",
       "      <td>2.0</td>\n",
       "      <td>4.0</td>\n",
       "      <td>5.0</td>\n",
       "      <td>2.0</td>\n",
       "      <td>1.0</td>\n",
       "      <td>2.0</td>\n",
       "      <td>0.0</td>\n",
       "      <td>18 - 34 Years</td>\n",
       "      <td>Some College</td>\n",
       "      <td>White</td>\n",
       "      <td>Female</td>\n",
       "      <td>Below Poverty</td>\n",
       "      <td>Not Married</td>\n",
       "      <td>Rent</td>\n",
       "      <td>Not in Labor Force</td>\n",
       "      <td>oxchjgsf</td>\n",
       "      <td>MSA, Principle City</td>\n",
       "    </tr>\n",
       "    <tr>\n",
       "      <th>9261</th>\n",
       "      <td>2.0</td>\n",
       "      <td>2.0</td>\n",
       "      <td>0.0</td>\n",
       "      <td>1.0</td>\n",
       "      <td>0.0</td>\n",
       "      <td>1.0</td>\n",
       "      <td>1.0</td>\n",
       "      <td>1.0</td>\n",
       "      <td>1.0</td>\n",
       "      <td>0.0</td>\n",
       "      <td>1.0</td>\n",
       "      <td>0.0</td>\n",
       "      <td>0.0</td>\n",
       "      <td>0.0</td>\n",
       "      <td>0.880081</td>\n",
       "      <td>5.0</td>\n",
       "      <td>2.0</td>\n",
       "      <td>4.0</td>\n",
       "      <td>5.0</td>\n",
       "      <td>4.0</td>\n",
       "      <td>1.0</td>\n",
       "      <td>1.0</td>\n",
       "      <td>0.0</td>\n",
       "      <td>65+ Years</td>\n",
       "      <td>College Graduate</td>\n",
       "      <td>White</td>\n",
       "      <td>Male</td>\n",
       "      <td>&gt; $75,000</td>\n",
       "      <td>Married</td>\n",
       "      <td>Own</td>\n",
       "      <td>Employed</td>\n",
       "      <td>bhuqouqj</td>\n",
       "      <td>Non-MSA</td>\n",
       "    </tr>\n",
       "    <tr>\n",
       "      <th>16193</th>\n",
       "      <td>2.0</td>\n",
       "      <td>2.0</td>\n",
       "      <td>0.0</td>\n",
       "      <td>1.0</td>\n",
       "      <td>0.0</td>\n",
       "      <td>1.0</td>\n",
       "      <td>0.0</td>\n",
       "      <td>0.0</td>\n",
       "      <td>1.0</td>\n",
       "      <td>1.0</td>\n",
       "      <td>1.0</td>\n",
       "      <td>1.0</td>\n",
       "      <td>0.0</td>\n",
       "      <td>0.0</td>\n",
       "      <td>0.880081</td>\n",
       "      <td>5.0</td>\n",
       "      <td>2.0</td>\n",
       "      <td>2.0</td>\n",
       "      <td>5.0</td>\n",
       "      <td>4.0</td>\n",
       "      <td>2.0</td>\n",
       "      <td>0.0</td>\n",
       "      <td>2.0</td>\n",
       "      <td>45 - 54 Years</td>\n",
       "      <td>College Graduate</td>\n",
       "      <td>White</td>\n",
       "      <td>Female</td>\n",
       "      <td>&lt;= $75,000, Above Poverty</td>\n",
       "      <td>Not Married</td>\n",
       "      <td>Rent</td>\n",
       "      <td>Employed</td>\n",
       "      <td>bhuqouqj</td>\n",
       "      <td>MSA, Not Principle  City</td>\n",
       "    </tr>\n",
       "    <tr>\n",
       "      <th>18216</th>\n",
       "      <td>1.0</td>\n",
       "      <td>1.0</td>\n",
       "      <td>0.0</td>\n",
       "      <td>0.0</td>\n",
       "      <td>0.0</td>\n",
       "      <td>1.0</td>\n",
       "      <td>0.0</td>\n",
       "      <td>0.0</td>\n",
       "      <td>0.0</td>\n",
       "      <td>0.0</td>\n",
       "      <td>1.0</td>\n",
       "      <td>0.0</td>\n",
       "      <td>0.0</td>\n",
       "      <td>1.0</td>\n",
       "      <td>0.880081</td>\n",
       "      <td>4.0</td>\n",
       "      <td>4.0</td>\n",
       "      <td>4.0</td>\n",
       "      <td>5.0</td>\n",
       "      <td>2.0</td>\n",
       "      <td>1.0</td>\n",
       "      <td>0.0</td>\n",
       "      <td>0.0</td>\n",
       "      <td>45 - 54 Years</td>\n",
       "      <td>Some College</td>\n",
       "      <td>White</td>\n",
       "      <td>Female</td>\n",
       "      <td>&lt;= $75,000, Above Poverty</td>\n",
       "      <td>Not Married</td>\n",
       "      <td>Rent</td>\n",
       "      <td>Employed</td>\n",
       "      <td>dqpwygqj</td>\n",
       "      <td>MSA, Principle City</td>\n",
       "    </tr>\n",
       "    <tr>\n",
       "      <th>9161</th>\n",
       "      <td>2.0</td>\n",
       "      <td>1.0</td>\n",
       "      <td>0.0</td>\n",
       "      <td>1.0</td>\n",
       "      <td>0.0</td>\n",
       "      <td>1.0</td>\n",
       "      <td>0.0</td>\n",
       "      <td>0.0</td>\n",
       "      <td>1.0</td>\n",
       "      <td>0.0</td>\n",
       "      <td>0.0</td>\n",
       "      <td>0.0</td>\n",
       "      <td>0.0</td>\n",
       "      <td>0.0</td>\n",
       "      <td>1.000000</td>\n",
       "      <td>5.0</td>\n",
       "      <td>4.0</td>\n",
       "      <td>1.0</td>\n",
       "      <td>5.0</td>\n",
       "      <td>5.0</td>\n",
       "      <td>1.0</td>\n",
       "      <td>1.0</td>\n",
       "      <td>0.0</td>\n",
       "      <td>55 - 64 Years</td>\n",
       "      <td>12 Years</td>\n",
       "      <td>White</td>\n",
       "      <td>Male</td>\n",
       "      <td>&lt;= $75,000, Above Poverty</td>\n",
       "      <td>Married</td>\n",
       "      <td>Own</td>\n",
       "      <td>Employed</td>\n",
       "      <td>qufhixun</td>\n",
       "      <td>MSA, Not Principle  City</td>\n",
       "    </tr>\n",
       "  </tbody>\n",
       "</table>\n",
       "</div>"
      ],
      "text/plain": [
       "       h1n1_concern  h1n1_knowledge  behavioral_antiviral_meds  \\\n",
       "16087           1.0             1.0                        0.0   \n",
       "9261            2.0             2.0                        0.0   \n",
       "16193           2.0             2.0                        0.0   \n",
       "18216           1.0             1.0                        0.0   \n",
       "9161            2.0             1.0                        0.0   \n",
       "\n",
       "       behavioral_avoidance  behavioral_face_mask  behavioral_wash_hands  \\\n",
       "16087                   1.0                   0.0                    1.0   \n",
       "9261                    1.0                   0.0                    1.0   \n",
       "16193                   1.0                   0.0                    1.0   \n",
       "18216                   0.0                   0.0                    1.0   \n",
       "9161                    1.0                   0.0                    1.0   \n",
       "\n",
       "       behavioral_large_gatherings  behavioral_outside_home  \\\n",
       "16087                          0.0                      0.0   \n",
       "9261                           1.0                      1.0   \n",
       "16193                          0.0                      0.0   \n",
       "18216                          0.0                      0.0   \n",
       "9161                           0.0                      0.0   \n",
       "\n",
       "       behavioral_touch_face  doctor_recc_h1n1  doctor_recc_seasonal  \\\n",
       "16087                    1.0               0.0                   0.0   \n",
       "9261                     1.0               0.0                   1.0   \n",
       "16193                    1.0               1.0                   1.0   \n",
       "18216                    0.0               0.0                   1.0   \n",
       "9161                     1.0               0.0                   0.0   \n",
       "\n",
       "       chronic_med_condition  child_under_6_months  health_worker  \\\n",
       "16087                    1.0                   0.0            0.0   \n",
       "9261                     0.0                   0.0            0.0   \n",
       "16193                    1.0                   0.0            0.0   \n",
       "18216                    0.0                   0.0            1.0   \n",
       "9161                     0.0                   0.0            0.0   \n",
       "\n",
       "       health_insurance  opinion_h1n1_vacc_effective  opinion_h1n1_risk  \\\n",
       "16087          1.000000                          5.0                2.0   \n",
       "9261           0.880081                          5.0                2.0   \n",
       "16193          0.880081                          5.0                2.0   \n",
       "18216          0.880081                          4.0                4.0   \n",
       "9161           1.000000                          5.0                4.0   \n",
       "\n",
       "       opinion_h1n1_sick_from_vacc  opinion_seas_vacc_effective  \\\n",
       "16087                          4.0                          5.0   \n",
       "9261                           4.0                          5.0   \n",
       "16193                          2.0                          5.0   \n",
       "18216                          4.0                          5.0   \n",
       "9161                           1.0                          5.0   \n",
       "\n",
       "       opinion_seas_risk  opinion_seas_sick_from_vacc  household_adults  \\\n",
       "16087                2.0                          1.0               2.0   \n",
       "9261                 4.0                          1.0               1.0   \n",
       "16193                4.0                          2.0               0.0   \n",
       "18216                2.0                          1.0               0.0   \n",
       "9161                 5.0                          1.0               1.0   \n",
       "\n",
       "       household_children      age_group         education   race     sex  \\\n",
       "16087                 0.0  18 - 34 Years      Some College  White  Female   \n",
       "9261                  0.0      65+ Years  College Graduate  White    Male   \n",
       "16193                 2.0  45 - 54 Years  College Graduate  White  Female   \n",
       "18216                 0.0  45 - 54 Years      Some College  White  Female   \n",
       "9161                  0.0  55 - 64 Years          12 Years  White    Male   \n",
       "\n",
       "                  income_poverty marital_status rent_or_own  \\\n",
       "16087              Below Poverty    Not Married        Rent   \n",
       "9261                   > $75,000        Married         Own   \n",
       "16193  <= $75,000, Above Poverty    Not Married        Rent   \n",
       "18216  <= $75,000, Above Poverty    Not Married        Rent   \n",
       "9161   <= $75,000, Above Poverty        Married         Own   \n",
       "\n",
       "        employment_status hhs_geo_region                census_msa  \n",
       "16087  Not in Labor Force       oxchjgsf       MSA, Principle City  \n",
       "9261             Employed       bhuqouqj                   Non-MSA  \n",
       "16193            Employed       bhuqouqj  MSA, Not Principle  City  \n",
       "18216            Employed       dqpwygqj       MSA, Principle City  \n",
       "9161             Employed       qufhixun  MSA, Not Principle  City  "
      ]
     },
     "execution_count": 13,
     "metadata": {},
     "output_type": "execute_result"
    }
   ],
   "source": [
    "X_train_imp.head()"
   ]
  },
  {
   "cell_type": "markdown",
   "metadata": {},
   "source": [
    "No more missing values"
   ]
  },
  {
   "cell_type": "code",
   "execution_count": 14,
   "metadata": {},
   "outputs": [
    {
     "data": {
      "text/plain": [
       "h1n1_concern                   0\n",
       "h1n1_knowledge                 0\n",
       "behavioral_antiviral_meds      0\n",
       "behavioral_avoidance           0\n",
       "behavioral_face_mask           0\n",
       "behavioral_wash_hands          0\n",
       "behavioral_large_gatherings    0\n",
       "behavioral_outside_home        0\n",
       "behavioral_touch_face          0\n",
       "doctor_recc_h1n1               0\n",
       "doctor_recc_seasonal           0\n",
       "chronic_med_condition          0\n",
       "child_under_6_months           0\n",
       "health_worker                  0\n",
       "health_insurance               0\n",
       "opinion_h1n1_vacc_effective    0\n",
       "opinion_h1n1_risk              0\n",
       "opinion_h1n1_sick_from_vacc    0\n",
       "opinion_seas_vacc_effective    0\n",
       "opinion_seas_risk              0\n",
       "opinion_seas_sick_from_vacc    0\n",
       "household_adults               0\n",
       "household_children             0\n",
       "age_group                      0\n",
       "education                      0\n",
       "race                           0\n",
       "sex                            0\n",
       "income_poverty                 0\n",
       "marital_status                 0\n",
       "rent_or_own                    0\n",
       "employment_status              0\n",
       "hhs_geo_region                 0\n",
       "census_msa                     0\n",
       "dtype: int64"
      ]
     },
     "execution_count": 14,
     "metadata": {},
     "output_type": "execute_result"
    }
   ],
   "source": [
    "X_train_imp.isna().sum()"
   ]
  },
  {
   "cell_type": "markdown",
   "metadata": {},
   "source": [
    "#### One-hot encoding and scaling"
   ]
  },
  {
   "cell_type": "code",
   "execution_count": 15,
   "metadata": {},
   "outputs": [],
   "source": [
    "X_train_ohe = pd.get_dummies(X_train_imp)"
   ]
  },
  {
   "cell_type": "code",
   "execution_count": 16,
   "metadata": {},
   "outputs": [],
   "source": [
    "scaler = StandardScaler()\n",
    "\n",
    "X_train_scaled = pd.DataFrame(scaler.fit_transform(X_train_ohe), columns=X_train_ohe.columns, index=X_train_ohe.index)"
   ]
  },
  {
   "cell_type": "code",
   "execution_count": 17,
   "metadata": {},
   "outputs": [
    {
     "data": {
      "text/html": [
       "<div>\n",
       "<style scoped>\n",
       "    .dataframe tbody tr th:only-of-type {\n",
       "        vertical-align: middle;\n",
       "    }\n",
       "\n",
       "    .dataframe tbody tr th {\n",
       "        vertical-align: top;\n",
       "    }\n",
       "\n",
       "    .dataframe thead th {\n",
       "        text-align: right;\n",
       "    }\n",
       "</style>\n",
       "<table border=\"1\" class=\"dataframe\">\n",
       "  <thead>\n",
       "    <tr style=\"text-align: right;\">\n",
       "      <th></th>\n",
       "      <th>h1n1_concern</th>\n",
       "      <th>h1n1_knowledge</th>\n",
       "      <th>behavioral_antiviral_meds</th>\n",
       "      <th>behavioral_avoidance</th>\n",
       "      <th>behavioral_face_mask</th>\n",
       "      <th>behavioral_wash_hands</th>\n",
       "      <th>behavioral_large_gatherings</th>\n",
       "      <th>behavioral_outside_home</th>\n",
       "      <th>behavioral_touch_face</th>\n",
       "      <th>doctor_recc_h1n1</th>\n",
       "      <th>doctor_recc_seasonal</th>\n",
       "      <th>chronic_med_condition</th>\n",
       "      <th>child_under_6_months</th>\n",
       "      <th>health_worker</th>\n",
       "      <th>health_insurance</th>\n",
       "      <th>opinion_h1n1_vacc_effective</th>\n",
       "      <th>opinion_h1n1_risk</th>\n",
       "      <th>opinion_h1n1_sick_from_vacc</th>\n",
       "      <th>opinion_seas_vacc_effective</th>\n",
       "      <th>opinion_seas_risk</th>\n",
       "      <th>opinion_seas_sick_from_vacc</th>\n",
       "      <th>household_adults</th>\n",
       "      <th>household_children</th>\n",
       "      <th>age_group_18 - 34 Years</th>\n",
       "      <th>age_group_35 - 44 Years</th>\n",
       "      <th>age_group_45 - 54 Years</th>\n",
       "      <th>age_group_55 - 64 Years</th>\n",
       "      <th>age_group_65+ Years</th>\n",
       "      <th>education_12 Years</th>\n",
       "      <th>education_&lt; 12 Years</th>\n",
       "      <th>education_College Graduate</th>\n",
       "      <th>education_Some College</th>\n",
       "      <th>race_Black</th>\n",
       "      <th>race_Hispanic</th>\n",
       "      <th>race_Other or Multiple</th>\n",
       "      <th>race_White</th>\n",
       "      <th>sex_Female</th>\n",
       "      <th>sex_Male</th>\n",
       "      <th>income_poverty_&lt;= $75,000, Above Poverty</th>\n",
       "      <th>income_poverty_&gt; $75,000</th>\n",
       "      <th>income_poverty_Below Poverty</th>\n",
       "      <th>marital_status_Married</th>\n",
       "      <th>marital_status_Not Married</th>\n",
       "      <th>rent_or_own_Own</th>\n",
       "      <th>rent_or_own_Rent</th>\n",
       "      <th>employment_status_Employed</th>\n",
       "      <th>employment_status_Not in Labor Force</th>\n",
       "      <th>employment_status_Unemployed</th>\n",
       "      <th>hhs_geo_region_atmpeygn</th>\n",
       "      <th>hhs_geo_region_bhuqouqj</th>\n",
       "      <th>hhs_geo_region_dqpwygqj</th>\n",
       "      <th>hhs_geo_region_fpwskwrf</th>\n",
       "      <th>hhs_geo_region_kbazzjca</th>\n",
       "      <th>hhs_geo_region_lrircsnp</th>\n",
       "      <th>hhs_geo_region_lzgpxyit</th>\n",
       "      <th>hhs_geo_region_mlyzmhmf</th>\n",
       "      <th>hhs_geo_region_oxchjgsf</th>\n",
       "      <th>hhs_geo_region_qufhixun</th>\n",
       "      <th>census_msa_MSA, Not Principle  City</th>\n",
       "      <th>census_msa_MSA, Principle City</th>\n",
       "      <th>census_msa_Non-MSA</th>\n",
       "    </tr>\n",
       "  </thead>\n",
       "  <tbody>\n",
       "    <tr>\n",
       "      <th>16087</th>\n",
       "      <td>-0.675263</td>\n",
       "      <td>-0.423433</td>\n",
       "      <td>-0.226876</td>\n",
       "      <td>0.613266</td>\n",
       "      <td>-0.271729</td>\n",
       "      <td>0.457501</td>\n",
       "      <td>-0.748773</td>\n",
       "      <td>-0.718063</td>\n",
       "      <td>0.687215</td>\n",
       "      <td>-0.550405</td>\n",
       "      <td>-0.726445</td>\n",
       "      <td>1.615694</td>\n",
       "      <td>-0.302783</td>\n",
       "      <td>-0.361247</td>\n",
       "      <td>5.027249e-01</td>\n",
       "      <td>1.144717</td>\n",
       "      <td>-0.268425</td>\n",
       "      <td>1.218449</td>\n",
       "      <td>0.901472</td>\n",
       "      <td>-0.525359</td>\n",
       "      <td>-0.846847</td>\n",
       "      <td>1.476925</td>\n",
       "      <td>-0.577187</td>\n",
       "      <td>2.011619</td>\n",
       "      <td>-0.409959</td>\n",
       "      <td>-0.491873</td>\n",
       "      <td>-0.513151</td>\n",
       "      <td>-0.584614</td>\n",
       "      <td>-0.530961</td>\n",
       "      <td>-0.361056</td>\n",
       "      <td>-0.819472</td>\n",
       "      <td>1.673978</td>\n",
       "      <td>-0.293341</td>\n",
       "      <td>-0.265721</td>\n",
       "      <td>-0.253896</td>\n",
       "      <td>0.508956</td>\n",
       "      <td>0.824503</td>\n",
       "      <td>-0.824503</td>\n",
       "      <td>-1.273740</td>\n",
       "      <td>-0.620491</td>\n",
       "      <td>2.945561</td>\n",
       "      <td>-1.114674</td>\n",
       "      <td>1.114674</td>\n",
       "      <td>-1.870318</td>\n",
       "      <td>1.870318</td>\n",
       "      <td>-1.109285</td>\n",
       "      <td>1.243024</td>\n",
       "      <td>-0.242215</td>\n",
       "      <td>-0.285234</td>\n",
       "      <td>-0.347578</td>\n",
       "      <td>-0.207916</td>\n",
       "      <td>-0.375221</td>\n",
       "      <td>-0.347036</td>\n",
       "      <td>-0.287784</td>\n",
       "      <td>-0.440498</td>\n",
       "      <td>-0.301889</td>\n",
       "      <td>2.911173</td>\n",
       "      <td>-0.363260</td>\n",
       "      <td>-0.883607</td>\n",
       "      <td>1.549040</td>\n",
       "      <td>-0.604152</td>\n",
       "    </tr>\n",
       "    <tr>\n",
       "      <th>9261</th>\n",
       "      <td>0.422204</td>\n",
       "      <td>1.197152</td>\n",
       "      <td>-0.226876</td>\n",
       "      <td>0.613266</td>\n",
       "      <td>-0.271729</td>\n",
       "      <td>0.457501</td>\n",
       "      <td>1.339799</td>\n",
       "      <td>1.397240</td>\n",
       "      <td>0.687215</td>\n",
       "      <td>-0.550405</td>\n",
       "      <td>1.494290</td>\n",
       "      <td>-0.642439</td>\n",
       "      <td>-0.302783</td>\n",
       "      <td>-0.361247</td>\n",
       "      <td>4.654300e-16</td>\n",
       "      <td>1.144717</td>\n",
       "      <td>-0.268425</td>\n",
       "      <td>1.218449</td>\n",
       "      <td>0.901472</td>\n",
       "      <td>0.935203</td>\n",
       "      <td>-0.846847</td>\n",
       "      <td>0.147572</td>\n",
       "      <td>-0.577187</td>\n",
       "      <td>-0.497112</td>\n",
       "      <td>-0.409959</td>\n",
       "      <td>-0.491873</td>\n",
       "      <td>-0.513151</td>\n",
       "      <td>1.710530</td>\n",
       "      <td>-0.530961</td>\n",
       "      <td>-0.361056</td>\n",
       "      <td>1.220298</td>\n",
       "      <td>-0.597379</td>\n",
       "      <td>-0.293341</td>\n",
       "      <td>-0.265721</td>\n",
       "      <td>-0.253896</td>\n",
       "      <td>0.508956</td>\n",
       "      <td>-1.212852</td>\n",
       "      <td>1.212852</td>\n",
       "      <td>-1.273740</td>\n",
       "      <td>1.611627</td>\n",
       "      <td>-0.339494</td>\n",
       "      <td>0.897123</td>\n",
       "      <td>-0.897123</td>\n",
       "      <td>0.534668</td>\n",
       "      <td>-0.534668</td>\n",
       "      <td>0.901482</td>\n",
       "      <td>-0.804490</td>\n",
       "      <td>-0.242215</td>\n",
       "      <td>-0.285234</td>\n",
       "      <td>2.877055</td>\n",
       "      <td>-0.207916</td>\n",
       "      <td>-0.375221</td>\n",
       "      <td>-0.347036</td>\n",
       "      <td>-0.287784</td>\n",
       "      <td>-0.440498</td>\n",
       "      <td>-0.301889</td>\n",
       "      <td>-0.343504</td>\n",
       "      <td>-0.363260</td>\n",
       "      <td>-0.883607</td>\n",
       "      <td>-0.645561</td>\n",
       "      <td>1.655213</td>\n",
       "    </tr>\n",
       "    <tr>\n",
       "      <th>16193</th>\n",
       "      <td>0.422204</td>\n",
       "      <td>1.197152</td>\n",
       "      <td>-0.226876</td>\n",
       "      <td>0.613266</td>\n",
       "      <td>-0.271729</td>\n",
       "      <td>0.457501</td>\n",
       "      <td>-0.748773</td>\n",
       "      <td>-0.718063</td>\n",
       "      <td>0.687215</td>\n",
       "      <td>1.972218</td>\n",
       "      <td>1.494290</td>\n",
       "      <td>1.615694</td>\n",
       "      <td>-0.302783</td>\n",
       "      <td>-0.361247</td>\n",
       "      <td>4.654300e-16</td>\n",
       "      <td>1.144717</td>\n",
       "      <td>-0.268425</td>\n",
       "      <td>-0.263629</td>\n",
       "      <td>0.901472</td>\n",
       "      <td>0.935203</td>\n",
       "      <td>-0.088790</td>\n",
       "      <td>-1.181781</td>\n",
       "      <td>1.596300</td>\n",
       "      <td>-0.497112</td>\n",
       "      <td>-0.409959</td>\n",
       "      <td>2.033043</td>\n",
       "      <td>-0.513151</td>\n",
       "      <td>-0.584614</td>\n",
       "      <td>-0.530961</td>\n",
       "      <td>-0.361056</td>\n",
       "      <td>1.220298</td>\n",
       "      <td>-0.597379</td>\n",
       "      <td>-0.293341</td>\n",
       "      <td>-0.265721</td>\n",
       "      <td>-0.253896</td>\n",
       "      <td>0.508956</td>\n",
       "      <td>0.824503</td>\n",
       "      <td>-0.824503</td>\n",
       "      <td>0.785089</td>\n",
       "      <td>-0.620491</td>\n",
       "      <td>-0.339494</td>\n",
       "      <td>-1.114674</td>\n",
       "      <td>1.114674</td>\n",
       "      <td>-1.870318</td>\n",
       "      <td>1.870318</td>\n",
       "      <td>0.901482</td>\n",
       "      <td>-0.804490</td>\n",
       "      <td>-0.242215</td>\n",
       "      <td>-0.285234</td>\n",
       "      <td>2.877055</td>\n",
       "      <td>-0.207916</td>\n",
       "      <td>-0.375221</td>\n",
       "      <td>-0.347036</td>\n",
       "      <td>-0.287784</td>\n",
       "      <td>-0.440498</td>\n",
       "      <td>-0.301889</td>\n",
       "      <td>-0.343504</td>\n",
       "      <td>-0.363260</td>\n",
       "      <td>1.131725</td>\n",
       "      <td>-0.645561</td>\n",
       "      <td>-0.604152</td>\n",
       "    </tr>\n",
       "    <tr>\n",
       "      <th>18216</th>\n",
       "      <td>-0.675263</td>\n",
       "      <td>-0.423433</td>\n",
       "      <td>-0.226876</td>\n",
       "      <td>-1.643744</td>\n",
       "      <td>-0.271729</td>\n",
       "      <td>0.457501</td>\n",
       "      <td>-0.748773</td>\n",
       "      <td>-0.718063</td>\n",
       "      <td>-1.462084</td>\n",
       "      <td>-0.550405</td>\n",
       "      <td>1.494290</td>\n",
       "      <td>-0.642439</td>\n",
       "      <td>-0.302783</td>\n",
       "      <td>2.854550</td>\n",
       "      <td>4.654300e-16</td>\n",
       "      <td>0.148336</td>\n",
       "      <td>1.299229</td>\n",
       "      <td>1.218449</td>\n",
       "      <td>0.901472</td>\n",
       "      <td>-0.525359</td>\n",
       "      <td>-0.846847</td>\n",
       "      <td>-1.181781</td>\n",
       "      <td>-0.577187</td>\n",
       "      <td>-0.497112</td>\n",
       "      <td>-0.409959</td>\n",
       "      <td>2.033043</td>\n",
       "      <td>-0.513151</td>\n",
       "      <td>-0.584614</td>\n",
       "      <td>-0.530961</td>\n",
       "      <td>-0.361056</td>\n",
       "      <td>-0.819472</td>\n",
       "      <td>1.673978</td>\n",
       "      <td>-0.293341</td>\n",
       "      <td>-0.265721</td>\n",
       "      <td>-0.253896</td>\n",
       "      <td>0.508956</td>\n",
       "      <td>0.824503</td>\n",
       "      <td>-0.824503</td>\n",
       "      <td>0.785089</td>\n",
       "      <td>-0.620491</td>\n",
       "      <td>-0.339494</td>\n",
       "      <td>-1.114674</td>\n",
       "      <td>1.114674</td>\n",
       "      <td>-1.870318</td>\n",
       "      <td>1.870318</td>\n",
       "      <td>0.901482</td>\n",
       "      <td>-0.804490</td>\n",
       "      <td>-0.242215</td>\n",
       "      <td>-0.285234</td>\n",
       "      <td>-0.347578</td>\n",
       "      <td>4.809629</td>\n",
       "      <td>-0.375221</td>\n",
       "      <td>-0.347036</td>\n",
       "      <td>-0.287784</td>\n",
       "      <td>-0.440498</td>\n",
       "      <td>-0.301889</td>\n",
       "      <td>-0.343504</td>\n",
       "      <td>-0.363260</td>\n",
       "      <td>-0.883607</td>\n",
       "      <td>1.549040</td>\n",
       "      <td>-0.604152</td>\n",
       "    </tr>\n",
       "    <tr>\n",
       "      <th>9161</th>\n",
       "      <td>0.422204</td>\n",
       "      <td>-0.423433</td>\n",
       "      <td>-0.226876</td>\n",
       "      <td>0.613266</td>\n",
       "      <td>-0.271729</td>\n",
       "      <td>0.457501</td>\n",
       "      <td>-0.748773</td>\n",
       "      <td>-0.718063</td>\n",
       "      <td>0.687215</td>\n",
       "      <td>-0.550405</td>\n",
       "      <td>-0.726445</td>\n",
       "      <td>-0.642439</td>\n",
       "      <td>-0.302783</td>\n",
       "      <td>-0.361247</td>\n",
       "      <td>5.027249e-01</td>\n",
       "      <td>1.144717</td>\n",
       "      <td>1.299229</td>\n",
       "      <td>-1.004668</td>\n",
       "      <td>0.901472</td>\n",
       "      <td>1.665484</td>\n",
       "      <td>-0.846847</td>\n",
       "      <td>0.147572</td>\n",
       "      <td>-0.577187</td>\n",
       "      <td>-0.497112</td>\n",
       "      <td>-0.409959</td>\n",
       "      <td>-0.491873</td>\n",
       "      <td>1.948744</td>\n",
       "      <td>-0.584614</td>\n",
       "      <td>1.883376</td>\n",
       "      <td>-0.361056</td>\n",
       "      <td>-0.819472</td>\n",
       "      <td>-0.597379</td>\n",
       "      <td>-0.293341</td>\n",
       "      <td>-0.265721</td>\n",
       "      <td>-0.253896</td>\n",
       "      <td>0.508956</td>\n",
       "      <td>-1.212852</td>\n",
       "      <td>1.212852</td>\n",
       "      <td>0.785089</td>\n",
       "      <td>-0.620491</td>\n",
       "      <td>-0.339494</td>\n",
       "      <td>0.897123</td>\n",
       "      <td>-0.897123</td>\n",
       "      <td>0.534668</td>\n",
       "      <td>-0.534668</td>\n",
       "      <td>0.901482</td>\n",
       "      <td>-0.804490</td>\n",
       "      <td>-0.242215</td>\n",
       "      <td>-0.285234</td>\n",
       "      <td>-0.347578</td>\n",
       "      <td>-0.207916</td>\n",
       "      <td>-0.375221</td>\n",
       "      <td>-0.347036</td>\n",
       "      <td>-0.287784</td>\n",
       "      <td>-0.440498</td>\n",
       "      <td>-0.301889</td>\n",
       "      <td>-0.343504</td>\n",
       "      <td>2.752846</td>\n",
       "      <td>1.131725</td>\n",
       "      <td>-0.645561</td>\n",
       "      <td>-0.604152</td>\n",
       "    </tr>\n",
       "  </tbody>\n",
       "</table>\n",
       "</div>"
      ],
      "text/plain": [
       "       h1n1_concern  h1n1_knowledge  behavioral_antiviral_meds  \\\n",
       "16087     -0.675263       -0.423433                  -0.226876   \n",
       "9261       0.422204        1.197152                  -0.226876   \n",
       "16193      0.422204        1.197152                  -0.226876   \n",
       "18216     -0.675263       -0.423433                  -0.226876   \n",
       "9161       0.422204       -0.423433                  -0.226876   \n",
       "\n",
       "       behavioral_avoidance  behavioral_face_mask  behavioral_wash_hands  \\\n",
       "16087              0.613266             -0.271729               0.457501   \n",
       "9261               0.613266             -0.271729               0.457501   \n",
       "16193              0.613266             -0.271729               0.457501   \n",
       "18216             -1.643744             -0.271729               0.457501   \n",
       "9161               0.613266             -0.271729               0.457501   \n",
       "\n",
       "       behavioral_large_gatherings  behavioral_outside_home  \\\n",
       "16087                    -0.748773                -0.718063   \n",
       "9261                      1.339799                 1.397240   \n",
       "16193                    -0.748773                -0.718063   \n",
       "18216                    -0.748773                -0.718063   \n",
       "9161                     -0.748773                -0.718063   \n",
       "\n",
       "       behavioral_touch_face  doctor_recc_h1n1  doctor_recc_seasonal  \\\n",
       "16087               0.687215         -0.550405             -0.726445   \n",
       "9261                0.687215         -0.550405              1.494290   \n",
       "16193               0.687215          1.972218              1.494290   \n",
       "18216              -1.462084         -0.550405              1.494290   \n",
       "9161                0.687215         -0.550405             -0.726445   \n",
       "\n",
       "       chronic_med_condition  child_under_6_months  health_worker  \\\n",
       "16087               1.615694             -0.302783      -0.361247   \n",
       "9261               -0.642439             -0.302783      -0.361247   \n",
       "16193               1.615694             -0.302783      -0.361247   \n",
       "18216              -0.642439             -0.302783       2.854550   \n",
       "9161               -0.642439             -0.302783      -0.361247   \n",
       "\n",
       "       health_insurance  opinion_h1n1_vacc_effective  opinion_h1n1_risk  \\\n",
       "16087      5.027249e-01                     1.144717          -0.268425   \n",
       "9261       4.654300e-16                     1.144717          -0.268425   \n",
       "16193      4.654300e-16                     1.144717          -0.268425   \n",
       "18216      4.654300e-16                     0.148336           1.299229   \n",
       "9161       5.027249e-01                     1.144717           1.299229   \n",
       "\n",
       "       opinion_h1n1_sick_from_vacc  opinion_seas_vacc_effective  \\\n",
       "16087                     1.218449                     0.901472   \n",
       "9261                      1.218449                     0.901472   \n",
       "16193                    -0.263629                     0.901472   \n",
       "18216                     1.218449                     0.901472   \n",
       "9161                     -1.004668                     0.901472   \n",
       "\n",
       "       opinion_seas_risk  opinion_seas_sick_from_vacc  household_adults  \\\n",
       "16087          -0.525359                    -0.846847          1.476925   \n",
       "9261            0.935203                    -0.846847          0.147572   \n",
       "16193           0.935203                    -0.088790         -1.181781   \n",
       "18216          -0.525359                    -0.846847         -1.181781   \n",
       "9161            1.665484                    -0.846847          0.147572   \n",
       "\n",
       "       household_children  age_group_18 - 34 Years  age_group_35 - 44 Years  \\\n",
       "16087           -0.577187                 2.011619                -0.409959   \n",
       "9261            -0.577187                -0.497112                -0.409959   \n",
       "16193            1.596300                -0.497112                -0.409959   \n",
       "18216           -0.577187                -0.497112                -0.409959   \n",
       "9161            -0.577187                -0.497112                -0.409959   \n",
       "\n",
       "       age_group_45 - 54 Years  age_group_55 - 64 Years  age_group_65+ Years  \\\n",
       "16087                -0.491873                -0.513151            -0.584614   \n",
       "9261                 -0.491873                -0.513151             1.710530   \n",
       "16193                 2.033043                -0.513151            -0.584614   \n",
       "18216                 2.033043                -0.513151            -0.584614   \n",
       "9161                 -0.491873                 1.948744            -0.584614   \n",
       "\n",
       "       education_12 Years  education_< 12 Years  education_College Graduate  \\\n",
       "16087           -0.530961             -0.361056                   -0.819472   \n",
       "9261            -0.530961             -0.361056                    1.220298   \n",
       "16193           -0.530961             -0.361056                    1.220298   \n",
       "18216           -0.530961             -0.361056                   -0.819472   \n",
       "9161             1.883376             -0.361056                   -0.819472   \n",
       "\n",
       "       education_Some College  race_Black  race_Hispanic  \\\n",
       "16087                1.673978   -0.293341      -0.265721   \n",
       "9261                -0.597379   -0.293341      -0.265721   \n",
       "16193               -0.597379   -0.293341      -0.265721   \n",
       "18216                1.673978   -0.293341      -0.265721   \n",
       "9161                -0.597379   -0.293341      -0.265721   \n",
       "\n",
       "       race_Other or Multiple  race_White  sex_Female  sex_Male  \\\n",
       "16087               -0.253896    0.508956    0.824503 -0.824503   \n",
       "9261                -0.253896    0.508956   -1.212852  1.212852   \n",
       "16193               -0.253896    0.508956    0.824503 -0.824503   \n",
       "18216               -0.253896    0.508956    0.824503 -0.824503   \n",
       "9161                -0.253896    0.508956   -1.212852  1.212852   \n",
       "\n",
       "       income_poverty_<= $75,000, Above Poverty  income_poverty_> $75,000  \\\n",
       "16087                                 -1.273740                 -0.620491   \n",
       "9261                                  -1.273740                  1.611627   \n",
       "16193                                  0.785089                 -0.620491   \n",
       "18216                                  0.785089                 -0.620491   \n",
       "9161                                   0.785089                 -0.620491   \n",
       "\n",
       "       income_poverty_Below Poverty  marital_status_Married  \\\n",
       "16087                      2.945561               -1.114674   \n",
       "9261                      -0.339494                0.897123   \n",
       "16193                     -0.339494               -1.114674   \n",
       "18216                     -0.339494               -1.114674   \n",
       "9161                      -0.339494                0.897123   \n",
       "\n",
       "       marital_status_Not Married  rent_or_own_Own  rent_or_own_Rent  \\\n",
       "16087                    1.114674        -1.870318          1.870318   \n",
       "9261                    -0.897123         0.534668         -0.534668   \n",
       "16193                    1.114674        -1.870318          1.870318   \n",
       "18216                    1.114674        -1.870318          1.870318   \n",
       "9161                    -0.897123         0.534668         -0.534668   \n",
       "\n",
       "       employment_status_Employed  employment_status_Not in Labor Force  \\\n",
       "16087                   -1.109285                              1.243024   \n",
       "9261                     0.901482                             -0.804490   \n",
       "16193                    0.901482                             -0.804490   \n",
       "18216                    0.901482                             -0.804490   \n",
       "9161                     0.901482                             -0.804490   \n",
       "\n",
       "       employment_status_Unemployed  hhs_geo_region_atmpeygn  \\\n",
       "16087                     -0.242215                -0.285234   \n",
       "9261                      -0.242215                -0.285234   \n",
       "16193                     -0.242215                -0.285234   \n",
       "18216                     -0.242215                -0.285234   \n",
       "9161                      -0.242215                -0.285234   \n",
       "\n",
       "       hhs_geo_region_bhuqouqj  hhs_geo_region_dqpwygqj  \\\n",
       "16087                -0.347578                -0.207916   \n",
       "9261                  2.877055                -0.207916   \n",
       "16193                 2.877055                -0.207916   \n",
       "18216                -0.347578                 4.809629   \n",
       "9161                 -0.347578                -0.207916   \n",
       "\n",
       "       hhs_geo_region_fpwskwrf  hhs_geo_region_kbazzjca  \\\n",
       "16087                -0.375221                -0.347036   \n",
       "9261                 -0.375221                -0.347036   \n",
       "16193                -0.375221                -0.347036   \n",
       "18216                -0.375221                -0.347036   \n",
       "9161                 -0.375221                -0.347036   \n",
       "\n",
       "       hhs_geo_region_lrircsnp  hhs_geo_region_lzgpxyit  \\\n",
       "16087                -0.287784                -0.440498   \n",
       "9261                 -0.287784                -0.440498   \n",
       "16193                -0.287784                -0.440498   \n",
       "18216                -0.287784                -0.440498   \n",
       "9161                 -0.287784                -0.440498   \n",
       "\n",
       "       hhs_geo_region_mlyzmhmf  hhs_geo_region_oxchjgsf  \\\n",
       "16087                -0.301889                 2.911173   \n",
       "9261                 -0.301889                -0.343504   \n",
       "16193                -0.301889                -0.343504   \n",
       "18216                -0.301889                -0.343504   \n",
       "9161                 -0.301889                -0.343504   \n",
       "\n",
       "       hhs_geo_region_qufhixun  census_msa_MSA, Not Principle  City  \\\n",
       "16087                -0.363260                            -0.883607   \n",
       "9261                 -0.363260                            -0.883607   \n",
       "16193                -0.363260                             1.131725   \n",
       "18216                -0.363260                            -0.883607   \n",
       "9161                  2.752846                             1.131725   \n",
       "\n",
       "       census_msa_MSA, Principle City  census_msa_Non-MSA  \n",
       "16087                        1.549040           -0.604152  \n",
       "9261                        -0.645561            1.655213  \n",
       "16193                       -0.645561           -0.604152  \n",
       "18216                        1.549040           -0.604152  \n",
       "9161                        -0.645561           -0.604152  "
      ]
     },
     "execution_count": 17,
     "metadata": {},
     "output_type": "execute_result"
    }
   ],
   "source": [
    "X_train_scaled.head()"
   ]
  },
  {
   "cell_type": "markdown",
   "metadata": {},
   "source": [
    "#### Applying preprocessing steps to test set"
   ]
  },
  {
   "cell_type": "code",
   "execution_count": 18,
   "metadata": {},
   "outputs": [],
   "source": [
    "X_test_num = X_test.select_dtypes('number')\n",
    "X_test_obj = X_test.select_dtypes('object')\n",
    "X_test_obj = pd.DataFrame(ord_encoder.transform(X_test_obj), columns=X_test_obj.columns, index=X_test_obj.index)\n",
    "\n",
    "# Imputing missing numerical values with the mean from that column\n",
    "imputed_x_test_num = pd.DataFrame(num_imputer.transform(X_test_num), columns=X_test_num.columns, index=X_test_num.index)\n",
    "\n",
    "# Imputing missing numerical values with the nearest neighbor\n",
    "imputed_x_test_obj = obj_imputer.transform(X_test_obj)\n",
    "\n",
    "# Undoing the ordinal encoding, in order to one-hot encode\n",
    "imputed_x_test_obj = pd.DataFrame(ord_encoder.inverse_transform(imputed_x_test_obj), columns=X_test_obj.columns, index=X_test_obj.index)\n",
    "\n",
    "# Combining the numerical and object data\n",
    "X_test_imp = pd.concat(\n",
    "    [\n",
    "       imputed_x_test_num,\n",
    "       imputed_x_test_obj\n",
    "    ],\n",
    "    axis=1\n",
    ")\n",
    "\n",
    "X_test_ohe = pd.get_dummies(X_test_imp)\n",
    "\n",
    "X_test_scaled = pd.DataFrame(scaler.transform(X_test_ohe), columns=X_test_ohe.columns, index=X_test_ohe.index)"
   ]
  },
  {
   "cell_type": "code",
   "execution_count": 19,
   "metadata": {},
   "outputs": [
    {
     "data": {
      "text/html": [
       "<div>\n",
       "<style scoped>\n",
       "    .dataframe tbody tr th:only-of-type {\n",
       "        vertical-align: middle;\n",
       "    }\n",
       "\n",
       "    .dataframe tbody tr th {\n",
       "        vertical-align: top;\n",
       "    }\n",
       "\n",
       "    .dataframe thead th {\n",
       "        text-align: right;\n",
       "    }\n",
       "</style>\n",
       "<table border=\"1\" class=\"dataframe\">\n",
       "  <thead>\n",
       "    <tr style=\"text-align: right;\">\n",
       "      <th></th>\n",
       "      <th>h1n1_concern</th>\n",
       "      <th>h1n1_knowledge</th>\n",
       "      <th>behavioral_antiviral_meds</th>\n",
       "      <th>behavioral_avoidance</th>\n",
       "      <th>behavioral_face_mask</th>\n",
       "      <th>behavioral_wash_hands</th>\n",
       "      <th>behavioral_large_gatherings</th>\n",
       "      <th>behavioral_outside_home</th>\n",
       "      <th>behavioral_touch_face</th>\n",
       "      <th>doctor_recc_h1n1</th>\n",
       "      <th>doctor_recc_seasonal</th>\n",
       "      <th>chronic_med_condition</th>\n",
       "      <th>child_under_6_months</th>\n",
       "      <th>health_worker</th>\n",
       "      <th>health_insurance</th>\n",
       "      <th>opinion_h1n1_vacc_effective</th>\n",
       "      <th>opinion_h1n1_risk</th>\n",
       "      <th>opinion_h1n1_sick_from_vacc</th>\n",
       "      <th>opinion_seas_vacc_effective</th>\n",
       "      <th>opinion_seas_risk</th>\n",
       "      <th>opinion_seas_sick_from_vacc</th>\n",
       "      <th>household_adults</th>\n",
       "      <th>household_children</th>\n",
       "      <th>age_group_18 - 34 Years</th>\n",
       "      <th>age_group_35 - 44 Years</th>\n",
       "      <th>age_group_45 - 54 Years</th>\n",
       "      <th>age_group_55 - 64 Years</th>\n",
       "      <th>age_group_65+ Years</th>\n",
       "      <th>education_12 Years</th>\n",
       "      <th>education_&lt; 12 Years</th>\n",
       "      <th>education_College Graduate</th>\n",
       "      <th>education_Some College</th>\n",
       "      <th>race_Black</th>\n",
       "      <th>race_Hispanic</th>\n",
       "      <th>race_Other or Multiple</th>\n",
       "      <th>race_White</th>\n",
       "      <th>sex_Female</th>\n",
       "      <th>sex_Male</th>\n",
       "      <th>income_poverty_&lt;= $75,000, Above Poverty</th>\n",
       "      <th>income_poverty_&gt; $75,000</th>\n",
       "      <th>income_poverty_Below Poverty</th>\n",
       "      <th>marital_status_Married</th>\n",
       "      <th>marital_status_Not Married</th>\n",
       "      <th>rent_or_own_Own</th>\n",
       "      <th>rent_or_own_Rent</th>\n",
       "      <th>employment_status_Employed</th>\n",
       "      <th>employment_status_Not in Labor Force</th>\n",
       "      <th>employment_status_Unemployed</th>\n",
       "      <th>hhs_geo_region_atmpeygn</th>\n",
       "      <th>hhs_geo_region_bhuqouqj</th>\n",
       "      <th>hhs_geo_region_dqpwygqj</th>\n",
       "      <th>hhs_geo_region_fpwskwrf</th>\n",
       "      <th>hhs_geo_region_kbazzjca</th>\n",
       "      <th>hhs_geo_region_lrircsnp</th>\n",
       "      <th>hhs_geo_region_lzgpxyit</th>\n",
       "      <th>hhs_geo_region_mlyzmhmf</th>\n",
       "      <th>hhs_geo_region_oxchjgsf</th>\n",
       "      <th>hhs_geo_region_qufhixun</th>\n",
       "      <th>census_msa_MSA, Not Principle  City</th>\n",
       "      <th>census_msa_MSA, Principle City</th>\n",
       "      <th>census_msa_Non-MSA</th>\n",
       "    </tr>\n",
       "  </thead>\n",
       "  <tbody>\n",
       "    <tr>\n",
       "      <th>20463</th>\n",
       "      <td>1.519672</td>\n",
       "      <td>-0.423433</td>\n",
       "      <td>-0.226876</td>\n",
       "      <td>-1.643744</td>\n",
       "      <td>3.683263</td>\n",
       "      <td>0.457501</td>\n",
       "      <td>1.339799</td>\n",
       "      <td>1.397240</td>\n",
       "      <td>6.872148e-01</td>\n",
       "      <td>1.972218</td>\n",
       "      <td>1.494290</td>\n",
       "      <td>-0.642439</td>\n",
       "      <td>-0.302783</td>\n",
       "      <td>-0.361247</td>\n",
       "      <td>4.654300e-16</td>\n",
       "      <td>-1.844427</td>\n",
       "      <td>1.299229e+00</td>\n",
       "      <td>1.959488</td>\n",
       "      <td>0.901472</td>\n",
       "      <td>1.665484</td>\n",
       "      <td>-0.846847</td>\n",
       "      <td>0.147572</td>\n",
       "      <td>1.596300</td>\n",
       "      <td>2.011619</td>\n",
       "      <td>-0.409959</td>\n",
       "      <td>-0.491873</td>\n",
       "      <td>-0.513151</td>\n",
       "      <td>-0.584614</td>\n",
       "      <td>-0.530961</td>\n",
       "      <td>-0.361056</td>\n",
       "      <td>-0.819472</td>\n",
       "      <td>1.673978</td>\n",
       "      <td>-0.293341</td>\n",
       "      <td>-0.265721</td>\n",
       "      <td>3.938626</td>\n",
       "      <td>-1.964808</td>\n",
       "      <td>0.824503</td>\n",
       "      <td>-0.824503</td>\n",
       "      <td>0.785089</td>\n",
       "      <td>-0.620491</td>\n",
       "      <td>-0.339494</td>\n",
       "      <td>-1.114674</td>\n",
       "      <td>1.114674</td>\n",
       "      <td>-1.870318</td>\n",
       "      <td>1.870318</td>\n",
       "      <td>0.901482</td>\n",
       "      <td>-0.804490</td>\n",
       "      <td>-0.242215</td>\n",
       "      <td>-0.285234</td>\n",
       "      <td>-0.347578</td>\n",
       "      <td>-0.207916</td>\n",
       "      <td>-0.375221</td>\n",
       "      <td>-0.347036</td>\n",
       "      <td>-0.287784</td>\n",
       "      <td>-0.440498</td>\n",
       "      <td>3.312477</td>\n",
       "      <td>-0.343504</td>\n",
       "      <td>-0.363260</td>\n",
       "      <td>1.131725</td>\n",
       "      <td>-0.645561</td>\n",
       "      <td>-0.604152</td>\n",
       "    </tr>\n",
       "    <tr>\n",
       "      <th>14057</th>\n",
       "      <td>-0.675263</td>\n",
       "      <td>-2.044018</td>\n",
       "      <td>-0.226876</td>\n",
       "      <td>-1.643744</td>\n",
       "      <td>-0.271729</td>\n",
       "      <td>-2.189176</td>\n",
       "      <td>-0.748773</td>\n",
       "      <td>-0.718063</td>\n",
       "      <td>-1.462084e+00</td>\n",
       "      <td>1.972218</td>\n",
       "      <td>1.494290</td>\n",
       "      <td>1.615694</td>\n",
       "      <td>-0.302783</td>\n",
       "      <td>-0.361247</td>\n",
       "      <td>5.027249e-01</td>\n",
       "      <td>-0.848045</td>\n",
       "      <td>-3.480893e-16</td>\n",
       "      <td>-1.004668</td>\n",
       "      <td>0.901472</td>\n",
       "      <td>-1.255640</td>\n",
       "      <td>-0.846847</td>\n",
       "      <td>0.147572</td>\n",
       "      <td>-0.577187</td>\n",
       "      <td>-0.497112</td>\n",
       "      <td>-0.409959</td>\n",
       "      <td>-0.491873</td>\n",
       "      <td>-0.513151</td>\n",
       "      <td>1.710530</td>\n",
       "      <td>1.883376</td>\n",
       "      <td>-0.361056</td>\n",
       "      <td>-0.819472</td>\n",
       "      <td>-0.597379</td>\n",
       "      <td>-0.293341</td>\n",
       "      <td>-0.265721</td>\n",
       "      <td>-0.253896</td>\n",
       "      <td>0.508956</td>\n",
       "      <td>0.824503</td>\n",
       "      <td>-0.824503</td>\n",
       "      <td>0.785089</td>\n",
       "      <td>-0.620491</td>\n",
       "      <td>-0.339494</td>\n",
       "      <td>-1.114674</td>\n",
       "      <td>1.114674</td>\n",
       "      <td>0.534668</td>\n",
       "      <td>-0.534668</td>\n",
       "      <td>-1.109285</td>\n",
       "      <td>1.243024</td>\n",
       "      <td>-0.242215</td>\n",
       "      <td>-0.285234</td>\n",
       "      <td>-0.347578</td>\n",
       "      <td>-0.207916</td>\n",
       "      <td>2.665099</td>\n",
       "      <td>-0.347036</td>\n",
       "      <td>-0.287784</td>\n",
       "      <td>-0.440498</td>\n",
       "      <td>-0.301889</td>\n",
       "      <td>-0.343504</td>\n",
       "      <td>-0.363260</td>\n",
       "      <td>-0.883607</td>\n",
       "      <td>-0.645561</td>\n",
       "      <td>1.655213</td>\n",
       "    </tr>\n",
       "    <tr>\n",
       "      <th>8372</th>\n",
       "      <td>0.422204</td>\n",
       "      <td>-0.423433</td>\n",
       "      <td>-0.226876</td>\n",
       "      <td>0.613266</td>\n",
       "      <td>-0.271729</td>\n",
       "      <td>0.457501</td>\n",
       "      <td>-0.748773</td>\n",
       "      <td>-0.718063</td>\n",
       "      <td>6.872148e-01</td>\n",
       "      <td>-0.550405</td>\n",
       "      <td>-0.726445</td>\n",
       "      <td>-0.642439</td>\n",
       "      <td>-0.302783</td>\n",
       "      <td>-0.361247</td>\n",
       "      <td>-3.689496e+00</td>\n",
       "      <td>0.148336</td>\n",
       "      <td>1.299229e+00</td>\n",
       "      <td>1.218449</td>\n",
       "      <td>-0.025097</td>\n",
       "      <td>0.935203</td>\n",
       "      <td>1.427325</td>\n",
       "      <td>0.147572</td>\n",
       "      <td>2.683044</td>\n",
       "      <td>2.011619</td>\n",
       "      <td>-0.409959</td>\n",
       "      <td>-0.491873</td>\n",
       "      <td>-0.513151</td>\n",
       "      <td>-0.584614</td>\n",
       "      <td>1.883376</td>\n",
       "      <td>-0.361056</td>\n",
       "      <td>-0.819472</td>\n",
       "      <td>-0.597379</td>\n",
       "      <td>-0.293341</td>\n",
       "      <td>-0.265721</td>\n",
       "      <td>3.938626</td>\n",
       "      <td>-1.964808</td>\n",
       "      <td>-1.212852</td>\n",
       "      <td>1.212852</td>\n",
       "      <td>0.785089</td>\n",
       "      <td>-0.620491</td>\n",
       "      <td>-0.339494</td>\n",
       "      <td>-1.114674</td>\n",
       "      <td>1.114674</td>\n",
       "      <td>-1.870318</td>\n",
       "      <td>1.870318</td>\n",
       "      <td>0.901482</td>\n",
       "      <td>-0.804490</td>\n",
       "      <td>-0.242215</td>\n",
       "      <td>-0.285234</td>\n",
       "      <td>-0.347578</td>\n",
       "      <td>-0.207916</td>\n",
       "      <td>-0.375221</td>\n",
       "      <td>2.881544</td>\n",
       "      <td>-0.287784</td>\n",
       "      <td>-0.440498</td>\n",
       "      <td>-0.301889</td>\n",
       "      <td>-0.343504</td>\n",
       "      <td>-0.363260</td>\n",
       "      <td>1.131725</td>\n",
       "      <td>-0.645561</td>\n",
       "      <td>-0.604152</td>\n",
       "    </tr>\n",
       "    <tr>\n",
       "      <th>21740</th>\n",
       "      <td>-1.772730</td>\n",
       "      <td>-0.423433</td>\n",
       "      <td>0.000000</td>\n",
       "      <td>0.000000</td>\n",
       "      <td>-0.271729</td>\n",
       "      <td>0.457501</td>\n",
       "      <td>-0.748773</td>\n",
       "      <td>-0.718063</td>\n",
       "      <td>2.386201e-16</td>\n",
       "      <td>-0.550405</td>\n",
       "      <td>1.494290</td>\n",
       "      <td>1.615694</td>\n",
       "      <td>-0.302783</td>\n",
       "      <td>-0.361247</td>\n",
       "      <td>5.027249e-01</td>\n",
       "      <td>-0.848045</td>\n",
       "      <td>5.154020e-01</td>\n",
       "      <td>-1.004668</td>\n",
       "      <td>0.901472</td>\n",
       "      <td>-0.525359</td>\n",
       "      <td>-0.846847</td>\n",
       "      <td>-1.181781</td>\n",
       "      <td>-0.577187</td>\n",
       "      <td>-0.497112</td>\n",
       "      <td>-0.409959</td>\n",
       "      <td>-0.491873</td>\n",
       "      <td>-0.513151</td>\n",
       "      <td>1.710530</td>\n",
       "      <td>-0.530961</td>\n",
       "      <td>-0.361056</td>\n",
       "      <td>-0.819472</td>\n",
       "      <td>1.673978</td>\n",
       "      <td>-0.293341</td>\n",
       "      <td>-0.265721</td>\n",
       "      <td>-0.253896</td>\n",
       "      <td>0.508956</td>\n",
       "      <td>0.824503</td>\n",
       "      <td>-0.824503</td>\n",
       "      <td>0.785089</td>\n",
       "      <td>-0.620491</td>\n",
       "      <td>-0.339494</td>\n",
       "      <td>-1.114674</td>\n",
       "      <td>1.114674</td>\n",
       "      <td>-1.870318</td>\n",
       "      <td>1.870318</td>\n",
       "      <td>-1.109285</td>\n",
       "      <td>1.243024</td>\n",
       "      <td>-0.242215</td>\n",
       "      <td>-0.285234</td>\n",
       "      <td>-0.347578</td>\n",
       "      <td>-0.207916</td>\n",
       "      <td>-0.375221</td>\n",
       "      <td>-0.347036</td>\n",
       "      <td>-0.287784</td>\n",
       "      <td>-0.440498</td>\n",
       "      <td>-0.301889</td>\n",
       "      <td>-0.343504</td>\n",
       "      <td>2.752846</td>\n",
       "      <td>-0.883607</td>\n",
       "      <td>-0.645561</td>\n",
       "      <td>1.655213</td>\n",
       "    </tr>\n",
       "    <tr>\n",
       "      <th>15147</th>\n",
       "      <td>0.422204</td>\n",
       "      <td>-0.423433</td>\n",
       "      <td>-0.226876</td>\n",
       "      <td>0.613266</td>\n",
       "      <td>-0.271729</td>\n",
       "      <td>0.457501</td>\n",
       "      <td>1.339799</td>\n",
       "      <td>-0.718063</td>\n",
       "      <td>-1.462084e+00</td>\n",
       "      <td>0.000000</td>\n",
       "      <td>0.000000</td>\n",
       "      <td>-0.642439</td>\n",
       "      <td>-0.302783</td>\n",
       "      <td>2.854550</td>\n",
       "      <td>4.654300e-16</td>\n",
       "      <td>0.148336</td>\n",
       "      <td>-2.684253e-01</td>\n",
       "      <td>1.218449</td>\n",
       "      <td>0.901472</td>\n",
       "      <td>-1.255640</td>\n",
       "      <td>-0.846847</td>\n",
       "      <td>-1.181781</td>\n",
       "      <td>-0.577187</td>\n",
       "      <td>-0.497112</td>\n",
       "      <td>-0.409959</td>\n",
       "      <td>-0.491873</td>\n",
       "      <td>-0.513151</td>\n",
       "      <td>1.710530</td>\n",
       "      <td>-0.530961</td>\n",
       "      <td>2.769656</td>\n",
       "      <td>-0.819472</td>\n",
       "      <td>-0.597379</td>\n",
       "      <td>-0.293341</td>\n",
       "      <td>-0.265721</td>\n",
       "      <td>-0.253896</td>\n",
       "      <td>0.508956</td>\n",
       "      <td>0.824503</td>\n",
       "      <td>-0.824503</td>\n",
       "      <td>0.785089</td>\n",
       "      <td>-0.620491</td>\n",
       "      <td>-0.339494</td>\n",
       "      <td>-1.114674</td>\n",
       "      <td>1.114674</td>\n",
       "      <td>0.534668</td>\n",
       "      <td>-0.534668</td>\n",
       "      <td>0.901482</td>\n",
       "      <td>-0.804490</td>\n",
       "      <td>-0.242215</td>\n",
       "      <td>-0.285234</td>\n",
       "      <td>-0.347578</td>\n",
       "      <td>-0.207916</td>\n",
       "      <td>-0.375221</td>\n",
       "      <td>-0.347036</td>\n",
       "      <td>-0.287784</td>\n",
       "      <td>2.270156</td>\n",
       "      <td>-0.301889</td>\n",
       "      <td>-0.343504</td>\n",
       "      <td>-0.363260</td>\n",
       "      <td>1.131725</td>\n",
       "      <td>-0.645561</td>\n",
       "      <td>-0.604152</td>\n",
       "    </tr>\n",
       "  </tbody>\n",
       "</table>\n",
       "</div>"
      ],
      "text/plain": [
       "       h1n1_concern  h1n1_knowledge  behavioral_antiviral_meds  \\\n",
       "20463      1.519672       -0.423433                  -0.226876   \n",
       "14057     -0.675263       -2.044018                  -0.226876   \n",
       "8372       0.422204       -0.423433                  -0.226876   \n",
       "21740     -1.772730       -0.423433                   0.000000   \n",
       "15147      0.422204       -0.423433                  -0.226876   \n",
       "\n",
       "       behavioral_avoidance  behavioral_face_mask  behavioral_wash_hands  \\\n",
       "20463             -1.643744              3.683263               0.457501   \n",
       "14057             -1.643744             -0.271729              -2.189176   \n",
       "8372               0.613266             -0.271729               0.457501   \n",
       "21740              0.000000             -0.271729               0.457501   \n",
       "15147              0.613266             -0.271729               0.457501   \n",
       "\n",
       "       behavioral_large_gatherings  behavioral_outside_home  \\\n",
       "20463                     1.339799                 1.397240   \n",
       "14057                    -0.748773                -0.718063   \n",
       "8372                     -0.748773                -0.718063   \n",
       "21740                    -0.748773                -0.718063   \n",
       "15147                     1.339799                -0.718063   \n",
       "\n",
       "       behavioral_touch_face  doctor_recc_h1n1  doctor_recc_seasonal  \\\n",
       "20463           6.872148e-01          1.972218              1.494290   \n",
       "14057          -1.462084e+00          1.972218              1.494290   \n",
       "8372            6.872148e-01         -0.550405             -0.726445   \n",
       "21740           2.386201e-16         -0.550405              1.494290   \n",
       "15147          -1.462084e+00          0.000000              0.000000   \n",
       "\n",
       "       chronic_med_condition  child_under_6_months  health_worker  \\\n",
       "20463              -0.642439             -0.302783      -0.361247   \n",
       "14057               1.615694             -0.302783      -0.361247   \n",
       "8372               -0.642439             -0.302783      -0.361247   \n",
       "21740               1.615694             -0.302783      -0.361247   \n",
       "15147              -0.642439             -0.302783       2.854550   \n",
       "\n",
       "       health_insurance  opinion_h1n1_vacc_effective  opinion_h1n1_risk  \\\n",
       "20463      4.654300e-16                    -1.844427       1.299229e+00   \n",
       "14057      5.027249e-01                    -0.848045      -3.480893e-16   \n",
       "8372      -3.689496e+00                     0.148336       1.299229e+00   \n",
       "21740      5.027249e-01                    -0.848045       5.154020e-01   \n",
       "15147      4.654300e-16                     0.148336      -2.684253e-01   \n",
       "\n",
       "       opinion_h1n1_sick_from_vacc  opinion_seas_vacc_effective  \\\n",
       "20463                     1.959488                     0.901472   \n",
       "14057                    -1.004668                     0.901472   \n",
       "8372                      1.218449                    -0.025097   \n",
       "21740                    -1.004668                     0.901472   \n",
       "15147                     1.218449                     0.901472   \n",
       "\n",
       "       opinion_seas_risk  opinion_seas_sick_from_vacc  household_adults  \\\n",
       "20463           1.665484                    -0.846847          0.147572   \n",
       "14057          -1.255640                    -0.846847          0.147572   \n",
       "8372            0.935203                     1.427325          0.147572   \n",
       "21740          -0.525359                    -0.846847         -1.181781   \n",
       "15147          -1.255640                    -0.846847         -1.181781   \n",
       "\n",
       "       household_children  age_group_18 - 34 Years  age_group_35 - 44 Years  \\\n",
       "20463            1.596300                 2.011619                -0.409959   \n",
       "14057           -0.577187                -0.497112                -0.409959   \n",
       "8372             2.683044                 2.011619                -0.409959   \n",
       "21740           -0.577187                -0.497112                -0.409959   \n",
       "15147           -0.577187                -0.497112                -0.409959   \n",
       "\n",
       "       age_group_45 - 54 Years  age_group_55 - 64 Years  age_group_65+ Years  \\\n",
       "20463                -0.491873                -0.513151            -0.584614   \n",
       "14057                -0.491873                -0.513151             1.710530   \n",
       "8372                 -0.491873                -0.513151            -0.584614   \n",
       "21740                -0.491873                -0.513151             1.710530   \n",
       "15147                -0.491873                -0.513151             1.710530   \n",
       "\n",
       "       education_12 Years  education_< 12 Years  education_College Graduate  \\\n",
       "20463           -0.530961             -0.361056                   -0.819472   \n",
       "14057            1.883376             -0.361056                   -0.819472   \n",
       "8372             1.883376             -0.361056                   -0.819472   \n",
       "21740           -0.530961             -0.361056                   -0.819472   \n",
       "15147           -0.530961              2.769656                   -0.819472   \n",
       "\n",
       "       education_Some College  race_Black  race_Hispanic  \\\n",
       "20463                1.673978   -0.293341      -0.265721   \n",
       "14057               -0.597379   -0.293341      -0.265721   \n",
       "8372                -0.597379   -0.293341      -0.265721   \n",
       "21740                1.673978   -0.293341      -0.265721   \n",
       "15147               -0.597379   -0.293341      -0.265721   \n",
       "\n",
       "       race_Other or Multiple  race_White  sex_Female  sex_Male  \\\n",
       "20463                3.938626   -1.964808    0.824503 -0.824503   \n",
       "14057               -0.253896    0.508956    0.824503 -0.824503   \n",
       "8372                 3.938626   -1.964808   -1.212852  1.212852   \n",
       "21740               -0.253896    0.508956    0.824503 -0.824503   \n",
       "15147               -0.253896    0.508956    0.824503 -0.824503   \n",
       "\n",
       "       income_poverty_<= $75,000, Above Poverty  income_poverty_> $75,000  \\\n",
       "20463                                  0.785089                 -0.620491   \n",
       "14057                                  0.785089                 -0.620491   \n",
       "8372                                   0.785089                 -0.620491   \n",
       "21740                                  0.785089                 -0.620491   \n",
       "15147                                  0.785089                 -0.620491   \n",
       "\n",
       "       income_poverty_Below Poverty  marital_status_Married  \\\n",
       "20463                     -0.339494               -1.114674   \n",
       "14057                     -0.339494               -1.114674   \n",
       "8372                      -0.339494               -1.114674   \n",
       "21740                     -0.339494               -1.114674   \n",
       "15147                     -0.339494               -1.114674   \n",
       "\n",
       "       marital_status_Not Married  rent_or_own_Own  rent_or_own_Rent  \\\n",
       "20463                    1.114674        -1.870318          1.870318   \n",
       "14057                    1.114674         0.534668         -0.534668   \n",
       "8372                     1.114674        -1.870318          1.870318   \n",
       "21740                    1.114674        -1.870318          1.870318   \n",
       "15147                    1.114674         0.534668         -0.534668   \n",
       "\n",
       "       employment_status_Employed  employment_status_Not in Labor Force  \\\n",
       "20463                    0.901482                             -0.804490   \n",
       "14057                   -1.109285                              1.243024   \n",
       "8372                     0.901482                             -0.804490   \n",
       "21740                   -1.109285                              1.243024   \n",
       "15147                    0.901482                             -0.804490   \n",
       "\n",
       "       employment_status_Unemployed  hhs_geo_region_atmpeygn  \\\n",
       "20463                     -0.242215                -0.285234   \n",
       "14057                     -0.242215                -0.285234   \n",
       "8372                      -0.242215                -0.285234   \n",
       "21740                     -0.242215                -0.285234   \n",
       "15147                     -0.242215                -0.285234   \n",
       "\n",
       "       hhs_geo_region_bhuqouqj  hhs_geo_region_dqpwygqj  \\\n",
       "20463                -0.347578                -0.207916   \n",
       "14057                -0.347578                -0.207916   \n",
       "8372                 -0.347578                -0.207916   \n",
       "21740                -0.347578                -0.207916   \n",
       "15147                -0.347578                -0.207916   \n",
       "\n",
       "       hhs_geo_region_fpwskwrf  hhs_geo_region_kbazzjca  \\\n",
       "20463                -0.375221                -0.347036   \n",
       "14057                 2.665099                -0.347036   \n",
       "8372                 -0.375221                 2.881544   \n",
       "21740                -0.375221                -0.347036   \n",
       "15147                -0.375221                -0.347036   \n",
       "\n",
       "       hhs_geo_region_lrircsnp  hhs_geo_region_lzgpxyit  \\\n",
       "20463                -0.287784                -0.440498   \n",
       "14057                -0.287784                -0.440498   \n",
       "8372                 -0.287784                -0.440498   \n",
       "21740                -0.287784                -0.440498   \n",
       "15147                -0.287784                 2.270156   \n",
       "\n",
       "       hhs_geo_region_mlyzmhmf  hhs_geo_region_oxchjgsf  \\\n",
       "20463                 3.312477                -0.343504   \n",
       "14057                -0.301889                -0.343504   \n",
       "8372                 -0.301889                -0.343504   \n",
       "21740                -0.301889                -0.343504   \n",
       "15147                -0.301889                -0.343504   \n",
       "\n",
       "       hhs_geo_region_qufhixun  census_msa_MSA, Not Principle  City  \\\n",
       "20463                -0.363260                             1.131725   \n",
       "14057                -0.363260                            -0.883607   \n",
       "8372                 -0.363260                             1.131725   \n",
       "21740                 2.752846                            -0.883607   \n",
       "15147                -0.363260                             1.131725   \n",
       "\n",
       "       census_msa_MSA, Principle City  census_msa_Non-MSA  \n",
       "20463                       -0.645561           -0.604152  \n",
       "14057                       -0.645561            1.655213  \n",
       "8372                        -0.645561           -0.604152  \n",
       "21740                       -0.645561            1.655213  \n",
       "15147                       -0.645561           -0.604152  "
      ]
     },
     "execution_count": 19,
     "metadata": {},
     "output_type": "execute_result"
    }
   ],
   "source": [
    "X_test_scaled.head()"
   ]
  },
  {
   "cell_type": "markdown",
   "metadata": {},
   "source": [
    "#### A function to show various metrics for a given fitted model"
   ]
  },
  {
   "cell_type": "code",
   "execution_count": 20,
   "metadata": {},
   "outputs": [],
   "source": [
    "# A function that shows training and cross-validated scores for a fitted model.\n",
    "def model_cv_results(estimator, X, y_true, metrics=['accuracy', 'roc_auc'], cv=True, k=5):\n",
    "    \"\"\"\n",
    "    Returns a DataFrame with training scores and mean cross validation scores for a model.\n",
    "    The function is preset to return scores for accuracy and roc_auc.\n",
    "    If running this function on a test set, cv should be set to False.\n",
    "    This function can often take a few minutes to run.\n",
    "    \"\"\"\n",
    "    all_train_scores = []\n",
    "    all_cv_scores = []\n",
    "    \n",
    "    for m in metrics:\n",
    "        scorer = get_scorer(m)\n",
    "        train_score = scorer(estimator, X, y_true)\n",
    "        all_train_scores.append(train_score)\n",
    "    \n",
    "    if cv:\n",
    "        cv_results = cross_validate(estimator, X, y_true, scoring=metrics, cv=k)\n",
    "        for m in metrics:\n",
    "            mean_cv_score = np.mean(cv_results['test_' + m])\n",
    "            all_cv_scores.append(mean_cv_score)\n",
    "\n",
    "        df = pd.DataFrame(zip(all_train_scores, all_cv_scores), columns=['train_score', 'mean_cv_score'], index=metrics)\n",
    "        return df\n",
    "    else:\n",
    "        df = pd.DataFrame(data=all_train_scores, index=metrics, columns=['score'])\n",
    "        return df"
   ]
  },
  {
   "cell_type": "markdown",
   "metadata": {},
   "source": [
    "## Modeling"
   ]
  },
  {
   "cell_type": "markdown",
   "metadata": {},
   "source": [
    "### Vanilla Logistic Regression Model"
   ]
  },
  {
   "cell_type": "code",
   "execution_count": 21,
   "metadata": {},
   "outputs": [],
   "source": [
    "logreg = LogisticRegression(random_state=seed)"
   ]
  },
  {
   "cell_type": "code",
   "execution_count": 22,
   "metadata": {},
   "outputs": [
    {
     "data": {
      "text/plain": [
       "LogisticRegression(random_state=50)"
      ]
     },
     "execution_count": 22,
     "metadata": {},
     "output_type": "execute_result"
    }
   ],
   "source": [
    "logreg.fit(X_train_scaled, y_train)"
   ]
  },
  {
   "cell_type": "code",
   "execution_count": 23,
   "metadata": {},
   "outputs": [
    {
     "data": {
      "text/plain": [
       "{'C': 1.0,\n",
       " 'class_weight': None,\n",
       " 'dual': False,\n",
       " 'fit_intercept': True,\n",
       " 'intercept_scaling': 1,\n",
       " 'l1_ratio': None,\n",
       " 'max_iter': 100,\n",
       " 'multi_class': 'auto',\n",
       " 'n_jobs': None,\n",
       " 'penalty': 'l2',\n",
       " 'random_state': 50,\n",
       " 'solver': 'lbfgs',\n",
       " 'tol': 0.0001,\n",
       " 'verbose': 0,\n",
       " 'warm_start': False}"
      ]
     },
     "execution_count": 23,
     "metadata": {},
     "output_type": "execute_result"
    }
   ],
   "source": [
    "logreg.get_params()"
   ]
  },
  {
   "cell_type": "code",
   "execution_count": 24,
   "metadata": {},
   "outputs": [
    {
     "data": {
      "text/html": [
       "<div>\n",
       "<style scoped>\n",
       "    .dataframe tbody tr th:only-of-type {\n",
       "        vertical-align: middle;\n",
       "    }\n",
       "\n",
       "    .dataframe tbody tr th {\n",
       "        vertical-align: top;\n",
       "    }\n",
       "\n",
       "    .dataframe thead th {\n",
       "        text-align: right;\n",
       "    }\n",
       "</style>\n",
       "<table border=\"1\" class=\"dataframe\">\n",
       "  <thead>\n",
       "    <tr style=\"text-align: right;\">\n",
       "      <th></th>\n",
       "      <th>train_score</th>\n",
       "      <th>mean_cv_score</th>\n",
       "    </tr>\n",
       "  </thead>\n",
       "  <tbody>\n",
       "    <tr>\n",
       "      <th>accuracy</th>\n",
       "      <td>0.838992</td>\n",
       "      <td>0.837993</td>\n",
       "    </tr>\n",
       "    <tr>\n",
       "      <th>roc_auc</th>\n",
       "      <td>0.839199</td>\n",
       "      <td>0.836371</td>\n",
       "    </tr>\n",
       "  </tbody>\n",
       "</table>\n",
       "</div>"
      ],
      "text/plain": [
       "          train_score  mean_cv_score\n",
       "accuracy     0.838992       0.837993\n",
       "roc_auc      0.839199       0.836371"
      ]
     },
     "execution_count": 24,
     "metadata": {},
     "output_type": "execute_result"
    }
   ],
   "source": [
    "logreg_results = model_cv_results(logreg, X_train_scaled, y_train)\n",
    "logreg_results"
   ]
  },
  {
   "cell_type": "code",
   "execution_count": 25,
   "metadata": {},
   "outputs": [],
   "source": [
    "# Making a function to keep track of all models and results in a single dictionary.\n",
    "\n",
    "models_dict = {\n",
    "    'models': {},\n",
    "    'results': {}\n",
    "}\n",
    "\n",
    "def store_model(name, model, results, dictionary=models_dict):\n",
    "    \"\"\"\n",
    "    Stores models and results for later use and comparison.\n",
    "    \"\"\"\n",
    "    dictionary['models'][name] = model\n",
    "    dictionary['results'][name] = results"
   ]
  },
  {
   "cell_type": "code",
   "execution_count": 26,
   "metadata": {},
   "outputs": [],
   "source": [
    "store_model('logreg', logreg, logreg_results)"
   ]
  },
  {
   "cell_type": "markdown",
   "metadata": {},
   "source": [
    "#### Grid Search on Logistic Regression"
   ]
  },
  {
   "cell_type": "code",
   "execution_count": 27,
   "metadata": {},
   "outputs": [],
   "source": [
    "gs_scoring = 'roc_auc'\n",
    "\n",
    "grid_logreg = {\n",
    "    'solver':['lbfgs', 'liblinear'],\n",
    "    'C': [1, 1e2, 1e5, 1e10],\n",
    "    'fit_intercept': [True, False]\n",
    "}\n",
    "\n",
    "gs_logreg = GridSearchCV(\n",
    "    estimator=logreg,\n",
    "    param_grid=grid_logreg,\n",
    "    cv=5,\n",
    "    scoring=gs_scoring\n",
    ")"
   ]
  },
  {
   "cell_type": "code",
   "execution_count": 28,
   "metadata": {},
   "outputs": [
    {
     "data": {
      "text/plain": [
       "GridSearchCV(cv=5, estimator=LogisticRegression(random_state=50),\n",
       "             param_grid={'C': [1, 100.0, 100000.0, 10000000000.0],\n",
       "                         'fit_intercept': [True, False],\n",
       "                         'solver': ['lbfgs', 'liblinear']},\n",
       "             scoring='roc_auc')"
      ]
     },
     "execution_count": 28,
     "metadata": {},
     "output_type": "execute_result"
    }
   ],
   "source": [
    "gs_logreg.fit(X_train_scaled, y_train)"
   ]
  },
  {
   "cell_type": "code",
   "execution_count": 29,
   "metadata": {},
   "outputs": [
    {
     "data": {
      "text/plain": [
       "{'C': 100.0, 'fit_intercept': True, 'solver': 'lbfgs'}"
      ]
     },
     "execution_count": 29,
     "metadata": {},
     "output_type": "execute_result"
    }
   ],
   "source": [
    "gs_logreg.best_params_"
   ]
  },
  {
   "cell_type": "code",
   "execution_count": 30,
   "metadata": {},
   "outputs": [
    {
     "data": {
      "text/html": [
       "<div>\n",
       "<style scoped>\n",
       "    .dataframe tbody tr th:only-of-type {\n",
       "        vertical-align: middle;\n",
       "    }\n",
       "\n",
       "    .dataframe tbody tr th {\n",
       "        vertical-align: top;\n",
       "    }\n",
       "\n",
       "    .dataframe thead th {\n",
       "        text-align: right;\n",
       "    }\n",
       "</style>\n",
       "<table border=\"1\" class=\"dataframe\">\n",
       "  <thead>\n",
       "    <tr style=\"text-align: right;\">\n",
       "      <th></th>\n",
       "      <th>train_score</th>\n",
       "      <th>mean_cv_score</th>\n",
       "    </tr>\n",
       "  </thead>\n",
       "  <tbody>\n",
       "    <tr>\n",
       "      <th>accuracy</th>\n",
       "      <td>0.839041</td>\n",
       "      <td>0.837893</td>\n",
       "    </tr>\n",
       "    <tr>\n",
       "      <th>roc_auc</th>\n",
       "      <td>0.839198</td>\n",
       "      <td>0.836373</td>\n",
       "    </tr>\n",
       "  </tbody>\n",
       "</table>\n",
       "</div>"
      ],
      "text/plain": [
       "          train_score  mean_cv_score\n",
       "accuracy     0.839041       0.837893\n",
       "roc_auc      0.839198       0.836373"
      ]
     },
     "execution_count": 30,
     "metadata": {},
     "output_type": "execute_result"
    }
   ],
   "source": [
    "gs_logreg_results = model_cv_results(gs_logreg.best_estimator_, X_train_scaled, y_train)\n",
    "gs_logreg_results"
   ]
  },
  {
   "cell_type": "code",
   "execution_count": 31,
   "metadata": {},
   "outputs": [],
   "source": [
    "store_model('gs_logreg', gs_logreg.best_estimator_, gs_logreg_results)"
   ]
  },
  {
   "cell_type": "markdown",
   "metadata": {},
   "source": [
    "### Random Forest Classifier"
   ]
  },
  {
   "cell_type": "code",
   "execution_count": 32,
   "metadata": {},
   "outputs": [],
   "source": [
    "rfc = RandomForestClassifier(random_state=seed)"
   ]
  },
  {
   "cell_type": "code",
   "execution_count": 33,
   "metadata": {},
   "outputs": [
    {
     "data": {
      "text/plain": [
       "RandomForestClassifier(random_state=50)"
      ]
     },
     "execution_count": 33,
     "metadata": {},
     "output_type": "execute_result"
    }
   ],
   "source": [
    "rfc.fit(X_train_scaled, y_train)"
   ]
  },
  {
   "cell_type": "code",
   "execution_count": 34,
   "metadata": {},
   "outputs": [
    {
     "data": {
      "text/html": [
       "<div>\n",
       "<style scoped>\n",
       "    .dataframe tbody tr th:only-of-type {\n",
       "        vertical-align: middle;\n",
       "    }\n",
       "\n",
       "    .dataframe tbody tr th {\n",
       "        vertical-align: top;\n",
       "    }\n",
       "\n",
       "    .dataframe thead th {\n",
       "        text-align: right;\n",
       "    }\n",
       "</style>\n",
       "<table border=\"1\" class=\"dataframe\">\n",
       "  <thead>\n",
       "    <tr style=\"text-align: right;\">\n",
       "      <th></th>\n",
       "      <th>train_score</th>\n",
       "      <th>mean_cv_score</th>\n",
       "    </tr>\n",
       "  </thead>\n",
       "  <tbody>\n",
       "    <tr>\n",
       "      <th>accuracy</th>\n",
       "      <td>0.99995</td>\n",
       "      <td>0.851623</td>\n",
       "    </tr>\n",
       "    <tr>\n",
       "      <th>roc_auc</th>\n",
       "      <td>1.00000</td>\n",
       "      <td>0.858384</td>\n",
       "    </tr>\n",
       "  </tbody>\n",
       "</table>\n",
       "</div>"
      ],
      "text/plain": [
       "          train_score  mean_cv_score\n",
       "accuracy      0.99995       0.851623\n",
       "roc_auc       1.00000       0.858384"
      ]
     },
     "execution_count": 34,
     "metadata": {},
     "output_type": "execute_result"
    }
   ],
   "source": [
    "rfc_results = model_cv_results(rfc, X_train_scaled, y_train)\n",
    "rfc_results"
   ]
  },
  {
   "cell_type": "code",
   "execution_count": 35,
   "metadata": {},
   "outputs": [
    {
     "data": {
      "text/plain": [
       "array([[15793,     0],\n",
       "       [    1,  4236]], dtype=int64)"
      ]
     },
     "execution_count": 35,
     "metadata": {},
     "output_type": "execute_result"
    }
   ],
   "source": [
    "confusion_matrix(y_train, rfc.predict(X_train_scaled))"
   ]
  },
  {
   "cell_type": "code",
   "execution_count": 36,
   "metadata": {},
   "outputs": [],
   "source": [
    "store_model('rfc', rfc, rfc_results)"
   ]
  },
  {
   "cell_type": "markdown",
   "metadata": {},
   "source": [
    "**Based on how low the cv scores are and how flawless the training scores are, this model is clearly overfit. I will run a few grid searches to in order to continue to optimize it.**"
   ]
  },
  {
   "cell_type": "markdown",
   "metadata": {},
   "source": [
    "### Grid search on Random Forest Classifier"
   ]
  },
  {
   "cell_type": "markdown",
   "metadata": {},
   "source": [
    "#### RFC Grid Search 1"
   ]
  },
  {
   "cell_type": "code",
   "execution_count": 37,
   "metadata": {},
   "outputs": [],
   "source": [
    "grid_rfc = {\n",
    "    'n_estimators': [100, 1000],\n",
    "    'max_depth': [5, 10],\n",
    "    'min_samples_split': [5, 50],\n",
    "}\n",
    "\n",
    "gs_rfc = GridSearchCV(\n",
    "    rfc, \n",
    "    param_grid=grid_rfc, \n",
    "    cv=5,\n",
    "    scoring=gs_scoring\n",
    ")"
   ]
  },
  {
   "cell_type": "code",
   "execution_count": 38,
   "metadata": {},
   "outputs": [
    {
     "data": {
      "text/plain": [
       "GridSearchCV(cv=5, estimator=RandomForestClassifier(random_state=50),\n",
       "             param_grid={'max_depth': [5, 10], 'min_samples_split': [5, 50],\n",
       "                         'n_estimators': [100, 1000]},\n",
       "             scoring='roc_auc')"
      ]
     },
     "execution_count": 38,
     "metadata": {},
     "output_type": "execute_result"
    }
   ],
   "source": [
    "gs_rfc.fit(X_train_scaled, y_train)\n",
    "# WARNING: 3 minutes"
   ]
  },
  {
   "cell_type": "code",
   "execution_count": 39,
   "metadata": {},
   "outputs": [
    {
     "data": {
      "text/plain": [
       "{'max_depth': 10, 'min_samples_split': 5, 'n_estimators': 1000}"
      ]
     },
     "execution_count": 39,
     "metadata": {},
     "output_type": "execute_result"
    }
   ],
   "source": [
    "gs_rfc.best_params_"
   ]
  },
  {
   "cell_type": "code",
   "execution_count": 40,
   "metadata": {
    "scrolled": false
   },
   "outputs": [
    {
     "data": {
      "text/html": [
       "<div>\n",
       "<style scoped>\n",
       "    .dataframe tbody tr th:only-of-type {\n",
       "        vertical-align: middle;\n",
       "    }\n",
       "\n",
       "    .dataframe tbody tr th {\n",
       "        vertical-align: top;\n",
       "    }\n",
       "\n",
       "    .dataframe thead th {\n",
       "        text-align: right;\n",
       "    }\n",
       "</style>\n",
       "<table border=\"1\" class=\"dataframe\">\n",
       "  <thead>\n",
       "    <tr style=\"text-align: right;\">\n",
       "      <th></th>\n",
       "      <th>train_score</th>\n",
       "      <th>mean_cv_score</th>\n",
       "    </tr>\n",
       "  </thead>\n",
       "  <tbody>\n",
       "    <tr>\n",
       "      <th>accuracy</th>\n",
       "      <td>0.883125</td>\n",
       "      <td>0.850874</td>\n",
       "    </tr>\n",
       "    <tr>\n",
       "      <th>roc_auc</th>\n",
       "      <td>0.926519</td>\n",
       "      <td>0.862604</td>\n",
       "    </tr>\n",
       "  </tbody>\n",
       "</table>\n",
       "</div>"
      ],
      "text/plain": [
       "          train_score  mean_cv_score\n",
       "accuracy     0.883125       0.850874\n",
       "roc_auc      0.926519       0.862604"
      ]
     },
     "execution_count": 40,
     "metadata": {},
     "output_type": "execute_result"
    }
   ],
   "source": [
    "gs_rfc_results = model_cv_results(gs_rfc.best_estimator_, X_train_scaled, y_train)\n",
    "gs_rfc_results\n",
    "# 50 seconds"
   ]
  },
  {
   "cell_type": "code",
   "execution_count": 41,
   "metadata": {},
   "outputs": [],
   "source": [
    "store_model('gs_rfc', gs_rfc.best_estimator_, gs_rfc_results)"
   ]
  },
  {
   "cell_type": "markdown",
   "metadata": {},
   "source": [
    "#### Adaboost Classifier"
   ]
  },
  {
   "cell_type": "code",
   "execution_count": 42,
   "metadata": {},
   "outputs": [],
   "source": [
    "adaboost_clf = AdaBoostClassifier(random_state=seed)"
   ]
  },
  {
   "cell_type": "code",
   "execution_count": 43,
   "metadata": {},
   "outputs": [
    {
     "data": {
      "text/plain": [
       "AdaBoostClassifier(random_state=50)"
      ]
     },
     "execution_count": 43,
     "metadata": {},
     "output_type": "execute_result"
    }
   ],
   "source": [
    "adaboost_clf.fit(X_train_scaled, y_train)"
   ]
  },
  {
   "cell_type": "code",
   "execution_count": 44,
   "metadata": {},
   "outputs": [
    {
     "data": {
      "text/html": [
       "<div>\n",
       "<style scoped>\n",
       "    .dataframe tbody tr th:only-of-type {\n",
       "        vertical-align: middle;\n",
       "    }\n",
       "\n",
       "    .dataframe tbody tr th {\n",
       "        vertical-align: top;\n",
       "    }\n",
       "\n",
       "    .dataframe thead th {\n",
       "        text-align: right;\n",
       "    }\n",
       "</style>\n",
       "<table border=\"1\" class=\"dataframe\">\n",
       "  <thead>\n",
       "    <tr style=\"text-align: right;\">\n",
       "      <th></th>\n",
       "      <th>train_score</th>\n",
       "      <th>mean_cv_score</th>\n",
       "    </tr>\n",
       "  </thead>\n",
       "  <tbody>\n",
       "    <tr>\n",
       "      <th>accuracy</th>\n",
       "      <td>0.853520</td>\n",
       "      <td>0.852521</td>\n",
       "    </tr>\n",
       "    <tr>\n",
       "      <th>roc_auc</th>\n",
       "      <td>0.865581</td>\n",
       "      <td>0.861693</td>\n",
       "    </tr>\n",
       "  </tbody>\n",
       "</table>\n",
       "</div>"
      ],
      "text/plain": [
       "          train_score  mean_cv_score\n",
       "accuracy     0.853520       0.852521\n",
       "roc_auc      0.865581       0.861693"
      ]
     },
     "execution_count": 44,
     "metadata": {},
     "output_type": "execute_result"
    }
   ],
   "source": [
    "adaboost_clf_results = model_cv_results(adaboost_clf, X_train_scaled, y_train)\n",
    "adaboost_clf_results"
   ]
  },
  {
   "cell_type": "code",
   "execution_count": 45,
   "metadata": {},
   "outputs": [],
   "source": [
    "store_model('adaboost_clf', adaboost_clf, adaboost_clf_results)"
   ]
  },
  {
   "cell_type": "markdown",
   "metadata": {},
   "source": [
    "#### Adaboost Grid Search"
   ]
  },
  {
   "cell_type": "code",
   "execution_count": 46,
   "metadata": {},
   "outputs": [],
   "source": [
    "grid_adaboost_clf = {\n",
    "    'n_estimators': [5, 50],\n",
    "    'learning_rate': [.1, 1 ,10],\n",
    "}\n",
    "\n",
    "gs_adaboost_clf = GridSearchCV(\n",
    "    adaboost_clf, \n",
    "    param_grid=grid_adaboost_clf,\n",
    "    cv=5,\n",
    "    scoring=gs_scoring\n",
    ")"
   ]
  },
  {
   "cell_type": "code",
   "execution_count": 47,
   "metadata": {},
   "outputs": [
    {
     "data": {
      "text/plain": [
       "GridSearchCV(cv=5, estimator=AdaBoostClassifier(random_state=50),\n",
       "             param_grid={'learning_rate': [0.1, 1, 10],\n",
       "                         'n_estimators': [5, 50]},\n",
       "             scoring='roc_auc')"
      ]
     },
     "execution_count": 47,
     "metadata": {},
     "output_type": "execute_result"
    }
   ],
   "source": [
    "gs_adaboost_clf.fit(X_train_scaled, y_train)"
   ]
  },
  {
   "cell_type": "code",
   "execution_count": 48,
   "metadata": {},
   "outputs": [
    {
     "data": {
      "text/plain": [
       "{'learning_rate': 1, 'n_estimators': 50}"
      ]
     },
     "execution_count": 48,
     "metadata": {},
     "output_type": "execute_result"
    }
   ],
   "source": [
    "gs_adaboost_clf.best_params_"
   ]
  },
  {
   "cell_type": "code",
   "execution_count": 49,
   "metadata": {},
   "outputs": [
    {
     "data": {
      "text/html": [
       "<div>\n",
       "<style scoped>\n",
       "    .dataframe tbody tr th:only-of-type {\n",
       "        vertical-align: middle;\n",
       "    }\n",
       "\n",
       "    .dataframe tbody tr th {\n",
       "        vertical-align: top;\n",
       "    }\n",
       "\n",
       "    .dataframe thead th {\n",
       "        text-align: right;\n",
       "    }\n",
       "</style>\n",
       "<table border=\"1\" class=\"dataframe\">\n",
       "  <thead>\n",
       "    <tr style=\"text-align: right;\">\n",
       "      <th></th>\n",
       "      <th>train_score</th>\n",
       "      <th>mean_cv_score</th>\n",
       "    </tr>\n",
       "  </thead>\n",
       "  <tbody>\n",
       "    <tr>\n",
       "      <th>accuracy</th>\n",
       "      <td>0.853520</td>\n",
       "      <td>0.852521</td>\n",
       "    </tr>\n",
       "    <tr>\n",
       "      <th>roc_auc</th>\n",
       "      <td>0.865581</td>\n",
       "      <td>0.861693</td>\n",
       "    </tr>\n",
       "  </tbody>\n",
       "</table>\n",
       "</div>"
      ],
      "text/plain": [
       "          train_score  mean_cv_score\n",
       "accuracy     0.853520       0.852521\n",
       "roc_auc      0.865581       0.861693"
      ]
     },
     "execution_count": 49,
     "metadata": {},
     "output_type": "execute_result"
    }
   ],
   "source": [
    "gs_adaboost_clf_results = model_cv_results(gs_adaboost_clf.best_estimator_, X_train_scaled, y_train)\n",
    "gs_adaboost_clf_results\n",
    "# 1.5 minutes"
   ]
  },
  {
   "cell_type": "code",
   "execution_count": 50,
   "metadata": {},
   "outputs": [],
   "source": [
    "store_model('gs_adaboost_clf', gs_adaboost_clf.best_estimator_, gs_adaboost_clf_results)"
   ]
  },
  {
   "cell_type": "markdown",
   "metadata": {},
   "source": [
    "#### Gradient Boosting Classifier"
   ]
  },
  {
   "cell_type": "code",
   "execution_count": 51,
   "metadata": {},
   "outputs": [],
   "source": [
    "gbt_clf = GradientBoostingClassifier(random_state=seed)"
   ]
  },
  {
   "cell_type": "code",
   "execution_count": 52,
   "metadata": {},
   "outputs": [
    {
     "data": {
      "text/plain": [
       "GradientBoostingClassifier(random_state=50)"
      ]
     },
     "execution_count": 52,
     "metadata": {},
     "output_type": "execute_result"
    }
   ],
   "source": [
    "gbt_clf.fit(X_train_scaled, y_train)"
   ]
  },
  {
   "cell_type": "code",
   "execution_count": 53,
   "metadata": {},
   "outputs": [
    {
     "data": {
      "text/html": [
       "<div>\n",
       "<style scoped>\n",
       "    .dataframe tbody tr th:only-of-type {\n",
       "        vertical-align: middle;\n",
       "    }\n",
       "\n",
       "    .dataframe tbody tr th {\n",
       "        vertical-align: top;\n",
       "    }\n",
       "\n",
       "    .dataframe thead th {\n",
       "        text-align: right;\n",
       "    }\n",
       "</style>\n",
       "<table border=\"1\" class=\"dataframe\">\n",
       "  <thead>\n",
       "    <tr style=\"text-align: right;\">\n",
       "      <th></th>\n",
       "      <th>train_score</th>\n",
       "      <th>mean_cv_score</th>\n",
       "    </tr>\n",
       "  </thead>\n",
       "  <tbody>\n",
       "    <tr>\n",
       "      <th>accuracy</th>\n",
       "      <td>0.862856</td>\n",
       "      <td>0.857564</td>\n",
       "    </tr>\n",
       "    <tr>\n",
       "      <th>roc_auc</th>\n",
       "      <td>0.879027</td>\n",
       "      <td>0.867416</td>\n",
       "    </tr>\n",
       "  </tbody>\n",
       "</table>\n",
       "</div>"
      ],
      "text/plain": [
       "          train_score  mean_cv_score\n",
       "accuracy     0.862856       0.857564\n",
       "roc_auc      0.879027       0.867416"
      ]
     },
     "execution_count": 53,
     "metadata": {},
     "output_type": "execute_result"
    }
   ],
   "source": [
    "gbt_clf_results = model_cv_results(gbt_clf, X_train_scaled, y_train)\n",
    "gbt_clf_results"
   ]
  },
  {
   "cell_type": "code",
   "execution_count": 54,
   "metadata": {},
   "outputs": [],
   "source": [
    "store_model('gbt_clf', gbt_clf, gbt_clf_results)"
   ]
  },
  {
   "cell_type": "markdown",
   "metadata": {},
   "source": [
    "#### Grid Seach on Gradient Boosting Classifier"
   ]
  },
  {
   "cell_type": "code",
   "execution_count": 55,
   "metadata": {},
   "outputs": [
    {
     "data": {
      "text/plain": [
       "GridSearchCV(cv=5, estimator=GradientBoostingClassifier(random_state=50),\n",
       "             param_grid={'learning_rate': [0.1, 0.01],\n",
       "                         'n_estimators': [100, 500]},\n",
       "             scoring='roc_auc')"
      ]
     },
     "execution_count": 55,
     "metadata": {},
     "output_type": "execute_result"
    }
   ],
   "source": [
    "grid_gbt = {\n",
    "    'learning_rate': [.1, .01],\n",
    "    'n_estimators': [100, 500]\n",
    "}\n",
    "\n",
    "gs_gbt = GridSearchCV(\n",
    "    estimator=gbt_clf,\n",
    "    param_grid=grid_gbt,\n",
    "    cv=5,\n",
    "    scoring=gs_scoring\n",
    ")\n",
    "\n",
    "gs_gbt.fit(X_train_scaled, y_train)"
   ]
  },
  {
   "cell_type": "code",
   "execution_count": 56,
   "metadata": {},
   "outputs": [
    {
     "data": {
      "text/plain": [
       "{'learning_rate': 0.1, 'n_estimators': 100}"
      ]
     },
     "execution_count": 56,
     "metadata": {},
     "output_type": "execute_result"
    }
   ],
   "source": [
    "gs_gbt.best_params_"
   ]
  },
  {
   "cell_type": "code",
   "execution_count": 57,
   "metadata": {},
   "outputs": [
    {
     "data": {
      "text/html": [
       "<div>\n",
       "<style scoped>\n",
       "    .dataframe tbody tr th:only-of-type {\n",
       "        vertical-align: middle;\n",
       "    }\n",
       "\n",
       "    .dataframe tbody tr th {\n",
       "        vertical-align: top;\n",
       "    }\n",
       "\n",
       "    .dataframe thead th {\n",
       "        text-align: right;\n",
       "    }\n",
       "</style>\n",
       "<table border=\"1\" class=\"dataframe\">\n",
       "  <thead>\n",
       "    <tr style=\"text-align: right;\">\n",
       "      <th></th>\n",
       "      <th>train_score</th>\n",
       "      <th>mean_cv_score</th>\n",
       "    </tr>\n",
       "  </thead>\n",
       "  <tbody>\n",
       "    <tr>\n",
       "      <th>accuracy</th>\n",
       "      <td>0.862856</td>\n",
       "      <td>0.857564</td>\n",
       "    </tr>\n",
       "    <tr>\n",
       "      <th>roc_auc</th>\n",
       "      <td>0.879027</td>\n",
       "      <td>0.867416</td>\n",
       "    </tr>\n",
       "  </tbody>\n",
       "</table>\n",
       "</div>"
      ],
      "text/plain": [
       "          train_score  mean_cv_score\n",
       "accuracy     0.862856       0.857564\n",
       "roc_auc      0.879027       0.867416"
      ]
     },
     "execution_count": 57,
     "metadata": {},
     "output_type": "execute_result"
    }
   ],
   "source": [
    "gs_gbt_results = model_cv_results(gs_gbt.best_estimator_, X_train_scaled, y_train)\n",
    "gs_gbt_results"
   ]
  },
  {
   "cell_type": "code",
   "execution_count": 58,
   "metadata": {},
   "outputs": [],
   "source": [
    "store_model('gs_gbt', gs_gbt.best_estimator_, gs_gbt_results)"
   ]
  },
  {
   "cell_type": "markdown",
   "metadata": {},
   "source": [
    "#### Histogram Gradient Boosting Classifier"
   ]
  },
  {
   "cell_type": "code",
   "execution_count": 59,
   "metadata": {},
   "outputs": [],
   "source": [
    "hgbt_clf = HistGradientBoostingClassifier(random_state=seed)"
   ]
  },
  {
   "cell_type": "code",
   "execution_count": 60,
   "metadata": {},
   "outputs": [
    {
     "data": {
      "text/plain": [
       "HistGradientBoostingClassifier(random_state=50)"
      ]
     },
     "execution_count": 60,
     "metadata": {},
     "output_type": "execute_result"
    }
   ],
   "source": [
    "hgbt_clf.fit(X_train_scaled, y_train)"
   ]
  },
  {
   "cell_type": "code",
   "execution_count": 61,
   "metadata": {},
   "outputs": [
    {
     "data": {
      "text/html": [
       "<div>\n",
       "<style scoped>\n",
       "    .dataframe tbody tr th:only-of-type {\n",
       "        vertical-align: middle;\n",
       "    }\n",
       "\n",
       "    .dataframe tbody tr th {\n",
       "        vertical-align: top;\n",
       "    }\n",
       "\n",
       "    .dataframe thead th {\n",
       "        text-align: right;\n",
       "    }\n",
       "</style>\n",
       "<table border=\"1\" class=\"dataframe\">\n",
       "  <thead>\n",
       "    <tr style=\"text-align: right;\">\n",
       "      <th></th>\n",
       "      <th>train_score</th>\n",
       "      <th>mean_cv_score</th>\n",
       "    </tr>\n",
       "  </thead>\n",
       "  <tbody>\n",
       "    <tr>\n",
       "      <th>accuracy</th>\n",
       "      <td>0.875736</td>\n",
       "      <td>0.857713</td>\n",
       "    </tr>\n",
       "    <tr>\n",
       "      <th>roc_auc</th>\n",
       "      <td>0.902891</td>\n",
       "      <td>0.868021</td>\n",
       "    </tr>\n",
       "  </tbody>\n",
       "</table>\n",
       "</div>"
      ],
      "text/plain": [
       "          train_score  mean_cv_score\n",
       "accuracy     0.875736       0.857713\n",
       "roc_auc      0.902891       0.868021"
      ]
     },
     "execution_count": 61,
     "metadata": {},
     "output_type": "execute_result"
    }
   ],
   "source": [
    "hgbt_clf_results = model_cv_results(hgbt_clf, X_train_scaled, y_train)\n",
    "hgbt_clf_results"
   ]
  },
  {
   "cell_type": "code",
   "execution_count": 62,
   "metadata": {},
   "outputs": [],
   "source": [
    "store_model('hgbt_clf', hgbt_clf, hgbt_clf_results)"
   ]
  },
  {
   "cell_type": "markdown",
   "metadata": {},
   "source": [
    "#### Grid Search on Histogram Gradient Boosting Classifier"
   ]
  },
  {
   "cell_type": "code",
   "execution_count": 63,
   "metadata": {},
   "outputs": [
    {
     "data": {
      "text/plain": [
       "GridSearchCV(cv=5, estimator=HistGradientBoostingClassifier(random_state=50),\n",
       "             param_grid={'learning_rate': [1, 0.1, 0.01],\n",
       "                         'max_depth': [3, 5, 7, 9, None],\n",
       "                         'max_iter': [10, 50, 100]},\n",
       "             scoring='roc_auc')"
      ]
     },
     "execution_count": 63,
     "metadata": {},
     "output_type": "execute_result"
    }
   ],
   "source": [
    "grid_hgbt = {\n",
    "    'learning_rate': [1, 0.1, 0.01],\n",
    "    'max_depth': [3, 5, 7, 9, None],\n",
    "    'max_iter': [10, 50, 100]\n",
    "}\n",
    "\n",
    "gs_hgbt = GridSearchCV(\n",
    "    estimator=hgbt_clf,\n",
    "    param_grid=grid_hgbt,\n",
    "    cv=5,\n",
    "    scoring=gs_scoring\n",
    ")\n",
    "\n",
    "gs_hgbt.fit(X_train_scaled, y_train)"
   ]
  },
  {
   "cell_type": "code",
   "execution_count": 64,
   "metadata": {},
   "outputs": [
    {
     "data": {
      "text/plain": [
       "{'learning_rate': 0.1, 'max_depth': 7, 'max_iter': 50}"
      ]
     },
     "execution_count": 64,
     "metadata": {},
     "output_type": "execute_result"
    }
   ],
   "source": [
    "gs_hgbt.best_params_"
   ]
  },
  {
   "cell_type": "code",
   "execution_count": 65,
   "metadata": {},
   "outputs": [
    {
     "data": {
      "text/html": [
       "<div>\n",
       "<style scoped>\n",
       "    .dataframe tbody tr th:only-of-type {\n",
       "        vertical-align: middle;\n",
       "    }\n",
       "\n",
       "    .dataframe tbody tr th {\n",
       "        vertical-align: top;\n",
       "    }\n",
       "\n",
       "    .dataframe thead th {\n",
       "        text-align: right;\n",
       "    }\n",
       "</style>\n",
       "<table border=\"1\" class=\"dataframe\">\n",
       "  <thead>\n",
       "    <tr style=\"text-align: right;\">\n",
       "      <th></th>\n",
       "      <th>train_score</th>\n",
       "      <th>mean_cv_score</th>\n",
       "    </tr>\n",
       "  </thead>\n",
       "  <tbody>\n",
       "    <tr>\n",
       "      <th>accuracy</th>\n",
       "      <td>0.872741</td>\n",
       "      <td>0.858362</td>\n",
       "    </tr>\n",
       "    <tr>\n",
       "      <th>roc_auc</th>\n",
       "      <td>0.898087</td>\n",
       "      <td>0.868167</td>\n",
       "    </tr>\n",
       "  </tbody>\n",
       "</table>\n",
       "</div>"
      ],
      "text/plain": [
       "          train_score  mean_cv_score\n",
       "accuracy     0.872741       0.858362\n",
       "roc_auc      0.898087       0.868167"
      ]
     },
     "execution_count": 65,
     "metadata": {},
     "output_type": "execute_result"
    }
   ],
   "source": [
    "gs_hgbt_results = model_cv_results(gs_hgbt.best_estimator_, X_train_scaled, y_train)\n",
    "gs_hgbt_results"
   ]
  },
  {
   "cell_type": "code",
   "execution_count": 66,
   "metadata": {},
   "outputs": [],
   "source": [
    "store_model('gs_hgbt', gs_hgbt.best_estimator_, gs_hgbt_results)"
   ]
  },
  {
   "cell_type": "markdown",
   "metadata": {},
   "source": [
    "#### Comparing Model Results"
   ]
  },
  {
   "cell_type": "code",
   "execution_count": 67,
   "metadata": {},
   "outputs": [
    {
     "name": "stdout",
     "output_type": "stream",
     "text": [
      "========== Training results for model: logreg: ==========\n"
     ]
    },
    {
     "data": {
      "text/html": [
       "<div>\n",
       "<style scoped>\n",
       "    .dataframe tbody tr th:only-of-type {\n",
       "        vertical-align: middle;\n",
       "    }\n",
       "\n",
       "    .dataframe tbody tr th {\n",
       "        vertical-align: top;\n",
       "    }\n",
       "\n",
       "    .dataframe thead th {\n",
       "        text-align: right;\n",
       "    }\n",
       "</style>\n",
       "<table border=\"1\" class=\"dataframe\">\n",
       "  <thead>\n",
       "    <tr style=\"text-align: right;\">\n",
       "      <th></th>\n",
       "      <th>train_score</th>\n",
       "      <th>mean_cv_score</th>\n",
       "    </tr>\n",
       "  </thead>\n",
       "  <tbody>\n",
       "    <tr>\n",
       "      <th>accuracy</th>\n",
       "      <td>0.838992</td>\n",
       "      <td>0.837993</td>\n",
       "    </tr>\n",
       "    <tr>\n",
       "      <th>roc_auc</th>\n",
       "      <td>0.839199</td>\n",
       "      <td>0.836371</td>\n",
       "    </tr>\n",
       "  </tbody>\n",
       "</table>\n",
       "</div>"
      ],
      "text/plain": [
       "          train_score  mean_cv_score\n",
       "accuracy     0.838992       0.837993\n",
       "roc_auc      0.839199       0.836371"
      ]
     },
     "metadata": {},
     "output_type": "display_data"
    },
    {
     "name": "stdout",
     "output_type": "stream",
     "text": [
      "========== Training results for model: gs_logreg: ==========\n"
     ]
    },
    {
     "data": {
      "text/html": [
       "<div>\n",
       "<style scoped>\n",
       "    .dataframe tbody tr th:only-of-type {\n",
       "        vertical-align: middle;\n",
       "    }\n",
       "\n",
       "    .dataframe tbody tr th {\n",
       "        vertical-align: top;\n",
       "    }\n",
       "\n",
       "    .dataframe thead th {\n",
       "        text-align: right;\n",
       "    }\n",
       "</style>\n",
       "<table border=\"1\" class=\"dataframe\">\n",
       "  <thead>\n",
       "    <tr style=\"text-align: right;\">\n",
       "      <th></th>\n",
       "      <th>train_score</th>\n",
       "      <th>mean_cv_score</th>\n",
       "    </tr>\n",
       "  </thead>\n",
       "  <tbody>\n",
       "    <tr>\n",
       "      <th>accuracy</th>\n",
       "      <td>0.839041</td>\n",
       "      <td>0.837893</td>\n",
       "    </tr>\n",
       "    <tr>\n",
       "      <th>roc_auc</th>\n",
       "      <td>0.839198</td>\n",
       "      <td>0.836373</td>\n",
       "    </tr>\n",
       "  </tbody>\n",
       "</table>\n",
       "</div>"
      ],
      "text/plain": [
       "          train_score  mean_cv_score\n",
       "accuracy     0.839041       0.837893\n",
       "roc_auc      0.839198       0.836373"
      ]
     },
     "metadata": {},
     "output_type": "display_data"
    },
    {
     "name": "stdout",
     "output_type": "stream",
     "text": [
      "========== Training results for model: rfc: ==========\n"
     ]
    },
    {
     "data": {
      "text/html": [
       "<div>\n",
       "<style scoped>\n",
       "    .dataframe tbody tr th:only-of-type {\n",
       "        vertical-align: middle;\n",
       "    }\n",
       "\n",
       "    .dataframe tbody tr th {\n",
       "        vertical-align: top;\n",
       "    }\n",
       "\n",
       "    .dataframe thead th {\n",
       "        text-align: right;\n",
       "    }\n",
       "</style>\n",
       "<table border=\"1\" class=\"dataframe\">\n",
       "  <thead>\n",
       "    <tr style=\"text-align: right;\">\n",
       "      <th></th>\n",
       "      <th>train_score</th>\n",
       "      <th>mean_cv_score</th>\n",
       "    </tr>\n",
       "  </thead>\n",
       "  <tbody>\n",
       "    <tr>\n",
       "      <th>accuracy</th>\n",
       "      <td>0.99995</td>\n",
       "      <td>0.851623</td>\n",
       "    </tr>\n",
       "    <tr>\n",
       "      <th>roc_auc</th>\n",
       "      <td>1.00000</td>\n",
       "      <td>0.858384</td>\n",
       "    </tr>\n",
       "  </tbody>\n",
       "</table>\n",
       "</div>"
      ],
      "text/plain": [
       "          train_score  mean_cv_score\n",
       "accuracy      0.99995       0.851623\n",
       "roc_auc       1.00000       0.858384"
      ]
     },
     "metadata": {},
     "output_type": "display_data"
    },
    {
     "name": "stdout",
     "output_type": "stream",
     "text": [
      "========== Training results for model: gs_rfc: ==========\n"
     ]
    },
    {
     "data": {
      "text/html": [
       "<div>\n",
       "<style scoped>\n",
       "    .dataframe tbody tr th:only-of-type {\n",
       "        vertical-align: middle;\n",
       "    }\n",
       "\n",
       "    .dataframe tbody tr th {\n",
       "        vertical-align: top;\n",
       "    }\n",
       "\n",
       "    .dataframe thead th {\n",
       "        text-align: right;\n",
       "    }\n",
       "</style>\n",
       "<table border=\"1\" class=\"dataframe\">\n",
       "  <thead>\n",
       "    <tr style=\"text-align: right;\">\n",
       "      <th></th>\n",
       "      <th>train_score</th>\n",
       "      <th>mean_cv_score</th>\n",
       "    </tr>\n",
       "  </thead>\n",
       "  <tbody>\n",
       "    <tr>\n",
       "      <th>accuracy</th>\n",
       "      <td>0.883125</td>\n",
       "      <td>0.850874</td>\n",
       "    </tr>\n",
       "    <tr>\n",
       "      <th>roc_auc</th>\n",
       "      <td>0.926519</td>\n",
       "      <td>0.862604</td>\n",
       "    </tr>\n",
       "  </tbody>\n",
       "</table>\n",
       "</div>"
      ],
      "text/plain": [
       "          train_score  mean_cv_score\n",
       "accuracy     0.883125       0.850874\n",
       "roc_auc      0.926519       0.862604"
      ]
     },
     "metadata": {},
     "output_type": "display_data"
    },
    {
     "name": "stdout",
     "output_type": "stream",
     "text": [
      "========== Training results for model: adaboost_clf: ==========\n"
     ]
    },
    {
     "data": {
      "text/html": [
       "<div>\n",
       "<style scoped>\n",
       "    .dataframe tbody tr th:only-of-type {\n",
       "        vertical-align: middle;\n",
       "    }\n",
       "\n",
       "    .dataframe tbody tr th {\n",
       "        vertical-align: top;\n",
       "    }\n",
       "\n",
       "    .dataframe thead th {\n",
       "        text-align: right;\n",
       "    }\n",
       "</style>\n",
       "<table border=\"1\" class=\"dataframe\">\n",
       "  <thead>\n",
       "    <tr style=\"text-align: right;\">\n",
       "      <th></th>\n",
       "      <th>train_score</th>\n",
       "      <th>mean_cv_score</th>\n",
       "    </tr>\n",
       "  </thead>\n",
       "  <tbody>\n",
       "    <tr>\n",
       "      <th>accuracy</th>\n",
       "      <td>0.853520</td>\n",
       "      <td>0.852521</td>\n",
       "    </tr>\n",
       "    <tr>\n",
       "      <th>roc_auc</th>\n",
       "      <td>0.865581</td>\n",
       "      <td>0.861693</td>\n",
       "    </tr>\n",
       "  </tbody>\n",
       "</table>\n",
       "</div>"
      ],
      "text/plain": [
       "          train_score  mean_cv_score\n",
       "accuracy     0.853520       0.852521\n",
       "roc_auc      0.865581       0.861693"
      ]
     },
     "metadata": {},
     "output_type": "display_data"
    },
    {
     "name": "stdout",
     "output_type": "stream",
     "text": [
      "========== Training results for model: gs_adaboost_clf: ==========\n"
     ]
    },
    {
     "data": {
      "text/html": [
       "<div>\n",
       "<style scoped>\n",
       "    .dataframe tbody tr th:only-of-type {\n",
       "        vertical-align: middle;\n",
       "    }\n",
       "\n",
       "    .dataframe tbody tr th {\n",
       "        vertical-align: top;\n",
       "    }\n",
       "\n",
       "    .dataframe thead th {\n",
       "        text-align: right;\n",
       "    }\n",
       "</style>\n",
       "<table border=\"1\" class=\"dataframe\">\n",
       "  <thead>\n",
       "    <tr style=\"text-align: right;\">\n",
       "      <th></th>\n",
       "      <th>train_score</th>\n",
       "      <th>mean_cv_score</th>\n",
       "    </tr>\n",
       "  </thead>\n",
       "  <tbody>\n",
       "    <tr>\n",
       "      <th>accuracy</th>\n",
       "      <td>0.853520</td>\n",
       "      <td>0.852521</td>\n",
       "    </tr>\n",
       "    <tr>\n",
       "      <th>roc_auc</th>\n",
       "      <td>0.865581</td>\n",
       "      <td>0.861693</td>\n",
       "    </tr>\n",
       "  </tbody>\n",
       "</table>\n",
       "</div>"
      ],
      "text/plain": [
       "          train_score  mean_cv_score\n",
       "accuracy     0.853520       0.852521\n",
       "roc_auc      0.865581       0.861693"
      ]
     },
     "metadata": {},
     "output_type": "display_data"
    },
    {
     "name": "stdout",
     "output_type": "stream",
     "text": [
      "========== Training results for model: gbt_clf: ==========\n"
     ]
    },
    {
     "data": {
      "text/html": [
       "<div>\n",
       "<style scoped>\n",
       "    .dataframe tbody tr th:only-of-type {\n",
       "        vertical-align: middle;\n",
       "    }\n",
       "\n",
       "    .dataframe tbody tr th {\n",
       "        vertical-align: top;\n",
       "    }\n",
       "\n",
       "    .dataframe thead th {\n",
       "        text-align: right;\n",
       "    }\n",
       "</style>\n",
       "<table border=\"1\" class=\"dataframe\">\n",
       "  <thead>\n",
       "    <tr style=\"text-align: right;\">\n",
       "      <th></th>\n",
       "      <th>train_score</th>\n",
       "      <th>mean_cv_score</th>\n",
       "    </tr>\n",
       "  </thead>\n",
       "  <tbody>\n",
       "    <tr>\n",
       "      <th>accuracy</th>\n",
       "      <td>0.862856</td>\n",
       "      <td>0.857564</td>\n",
       "    </tr>\n",
       "    <tr>\n",
       "      <th>roc_auc</th>\n",
       "      <td>0.879027</td>\n",
       "      <td>0.867416</td>\n",
       "    </tr>\n",
       "  </tbody>\n",
       "</table>\n",
       "</div>"
      ],
      "text/plain": [
       "          train_score  mean_cv_score\n",
       "accuracy     0.862856       0.857564\n",
       "roc_auc      0.879027       0.867416"
      ]
     },
     "metadata": {},
     "output_type": "display_data"
    },
    {
     "name": "stdout",
     "output_type": "stream",
     "text": [
      "========== Training results for model: gs_gbt: ==========\n"
     ]
    },
    {
     "data": {
      "text/html": [
       "<div>\n",
       "<style scoped>\n",
       "    .dataframe tbody tr th:only-of-type {\n",
       "        vertical-align: middle;\n",
       "    }\n",
       "\n",
       "    .dataframe tbody tr th {\n",
       "        vertical-align: top;\n",
       "    }\n",
       "\n",
       "    .dataframe thead th {\n",
       "        text-align: right;\n",
       "    }\n",
       "</style>\n",
       "<table border=\"1\" class=\"dataframe\">\n",
       "  <thead>\n",
       "    <tr style=\"text-align: right;\">\n",
       "      <th></th>\n",
       "      <th>train_score</th>\n",
       "      <th>mean_cv_score</th>\n",
       "    </tr>\n",
       "  </thead>\n",
       "  <tbody>\n",
       "    <tr>\n",
       "      <th>accuracy</th>\n",
       "      <td>0.862856</td>\n",
       "      <td>0.857564</td>\n",
       "    </tr>\n",
       "    <tr>\n",
       "      <th>roc_auc</th>\n",
       "      <td>0.879027</td>\n",
       "      <td>0.867416</td>\n",
       "    </tr>\n",
       "  </tbody>\n",
       "</table>\n",
       "</div>"
      ],
      "text/plain": [
       "          train_score  mean_cv_score\n",
       "accuracy     0.862856       0.857564\n",
       "roc_auc      0.879027       0.867416"
      ]
     },
     "metadata": {},
     "output_type": "display_data"
    },
    {
     "name": "stdout",
     "output_type": "stream",
     "text": [
      "========== Training results for model: hgbt_clf: ==========\n"
     ]
    },
    {
     "data": {
      "text/html": [
       "<div>\n",
       "<style scoped>\n",
       "    .dataframe tbody tr th:only-of-type {\n",
       "        vertical-align: middle;\n",
       "    }\n",
       "\n",
       "    .dataframe tbody tr th {\n",
       "        vertical-align: top;\n",
       "    }\n",
       "\n",
       "    .dataframe thead th {\n",
       "        text-align: right;\n",
       "    }\n",
       "</style>\n",
       "<table border=\"1\" class=\"dataframe\">\n",
       "  <thead>\n",
       "    <tr style=\"text-align: right;\">\n",
       "      <th></th>\n",
       "      <th>train_score</th>\n",
       "      <th>mean_cv_score</th>\n",
       "    </tr>\n",
       "  </thead>\n",
       "  <tbody>\n",
       "    <tr>\n",
       "      <th>accuracy</th>\n",
       "      <td>0.875736</td>\n",
       "      <td>0.857713</td>\n",
       "    </tr>\n",
       "    <tr>\n",
       "      <th>roc_auc</th>\n",
       "      <td>0.902891</td>\n",
       "      <td>0.868021</td>\n",
       "    </tr>\n",
       "  </tbody>\n",
       "</table>\n",
       "</div>"
      ],
      "text/plain": [
       "          train_score  mean_cv_score\n",
       "accuracy     0.875736       0.857713\n",
       "roc_auc      0.902891       0.868021"
      ]
     },
     "metadata": {},
     "output_type": "display_data"
    },
    {
     "name": "stdout",
     "output_type": "stream",
     "text": [
      "========== Training results for model: gs_hgbt: ==========\n"
     ]
    },
    {
     "data": {
      "text/html": [
       "<div>\n",
       "<style scoped>\n",
       "    .dataframe tbody tr th:only-of-type {\n",
       "        vertical-align: middle;\n",
       "    }\n",
       "\n",
       "    .dataframe tbody tr th {\n",
       "        vertical-align: top;\n",
       "    }\n",
       "\n",
       "    .dataframe thead th {\n",
       "        text-align: right;\n",
       "    }\n",
       "</style>\n",
       "<table border=\"1\" class=\"dataframe\">\n",
       "  <thead>\n",
       "    <tr style=\"text-align: right;\">\n",
       "      <th></th>\n",
       "      <th>train_score</th>\n",
       "      <th>mean_cv_score</th>\n",
       "    </tr>\n",
       "  </thead>\n",
       "  <tbody>\n",
       "    <tr>\n",
       "      <th>accuracy</th>\n",
       "      <td>0.872741</td>\n",
       "      <td>0.858362</td>\n",
       "    </tr>\n",
       "    <tr>\n",
       "      <th>roc_auc</th>\n",
       "      <td>0.898087</td>\n",
       "      <td>0.868167</td>\n",
       "    </tr>\n",
       "  </tbody>\n",
       "</table>\n",
       "</div>"
      ],
      "text/plain": [
       "          train_score  mean_cv_score\n",
       "accuracy     0.872741       0.858362\n",
       "roc_auc      0.898087       0.868167"
      ]
     },
     "metadata": {},
     "output_type": "display_data"
    }
   ],
   "source": [
    "for name, results in models_dict['results'].items():\n",
    "    print('='*10 + f' Training results for model: {name}: ' + '='*10)\n",
    "    display(results)"
   ]
  },
  {
   "cell_type": "code",
   "execution_count": 68,
   "metadata": {},
   "outputs": [
    {
     "name": "stdout",
     "output_type": "stream",
     "text": [
      "========== Test results for model: logreg: ==========\n"
     ]
    },
    {
     "data": {
      "text/html": [
       "<div>\n",
       "<style scoped>\n",
       "    .dataframe tbody tr th:only-of-type {\n",
       "        vertical-align: middle;\n",
       "    }\n",
       "\n",
       "    .dataframe tbody tr th {\n",
       "        vertical-align: top;\n",
       "    }\n",
       "\n",
       "    .dataframe thead th {\n",
       "        text-align: right;\n",
       "    }\n",
       "</style>\n",
       "<table border=\"1\" class=\"dataframe\">\n",
       "  <thead>\n",
       "    <tr style=\"text-align: right;\">\n",
       "      <th></th>\n",
       "      <th>score</th>\n",
       "    </tr>\n",
       "  </thead>\n",
       "  <tbody>\n",
       "    <tr>\n",
       "      <th>accuracy</th>\n",
       "      <td>0.826868</td>\n",
       "    </tr>\n",
       "    <tr>\n",
       "      <th>roc_auc</th>\n",
       "      <td>0.815036</td>\n",
       "    </tr>\n",
       "  </tbody>\n",
       "</table>\n",
       "</div>"
      ],
      "text/plain": [
       "             score\n",
       "accuracy  0.826868\n",
       "roc_auc   0.815036"
      ]
     },
     "metadata": {},
     "output_type": "display_data"
    },
    {
     "name": "stdout",
     "output_type": "stream",
     "text": [
      "========== Test results for model: gs_logreg: ==========\n"
     ]
    },
    {
     "data": {
      "text/html": [
       "<div>\n",
       "<style scoped>\n",
       "    .dataframe tbody tr th:only-of-type {\n",
       "        vertical-align: middle;\n",
       "    }\n",
       "\n",
       "    .dataframe tbody tr th {\n",
       "        vertical-align: top;\n",
       "    }\n",
       "\n",
       "    .dataframe thead th {\n",
       "        text-align: right;\n",
       "    }\n",
       "</style>\n",
       "<table border=\"1\" class=\"dataframe\">\n",
       "  <thead>\n",
       "    <tr style=\"text-align: right;\">\n",
       "      <th></th>\n",
       "      <th>score</th>\n",
       "    </tr>\n",
       "  </thead>\n",
       "  <tbody>\n",
       "    <tr>\n",
       "      <th>accuracy</th>\n",
       "      <td>0.826868</td>\n",
       "    </tr>\n",
       "    <tr>\n",
       "      <th>roc_auc</th>\n",
       "      <td>0.815039</td>\n",
       "    </tr>\n",
       "  </tbody>\n",
       "</table>\n",
       "</div>"
      ],
      "text/plain": [
       "             score\n",
       "accuracy  0.826868\n",
       "roc_auc   0.815039"
      ]
     },
     "metadata": {},
     "output_type": "display_data"
    },
    {
     "name": "stdout",
     "output_type": "stream",
     "text": [
      "========== Test results for model: rfc: ==========\n"
     ]
    },
    {
     "data": {
      "text/html": [
       "<div>\n",
       "<style scoped>\n",
       "    .dataframe tbody tr th:only-of-type {\n",
       "        vertical-align: middle;\n",
       "    }\n",
       "\n",
       "    .dataframe tbody tr th {\n",
       "        vertical-align: top;\n",
       "    }\n",
       "\n",
       "    .dataframe thead th {\n",
       "        text-align: right;\n",
       "    }\n",
       "</style>\n",
       "<table border=\"1\" class=\"dataframe\">\n",
       "  <thead>\n",
       "    <tr style=\"text-align: right;\">\n",
       "      <th></th>\n",
       "      <th>score</th>\n",
       "    </tr>\n",
       "  </thead>\n",
       "  <tbody>\n",
       "    <tr>\n",
       "      <th>accuracy</th>\n",
       "      <td>0.839000</td>\n",
       "    </tr>\n",
       "    <tr>\n",
       "      <th>roc_auc</th>\n",
       "      <td>0.839905</td>\n",
       "    </tr>\n",
       "  </tbody>\n",
       "</table>\n",
       "</div>"
      ],
      "text/plain": [
       "             score\n",
       "accuracy  0.839000\n",
       "roc_auc   0.839905"
      ]
     },
     "metadata": {},
     "output_type": "display_data"
    },
    {
     "name": "stdout",
     "output_type": "stream",
     "text": [
      "========== Test results for model: gs_rfc: ==========\n"
     ]
    },
    {
     "data": {
      "text/html": [
       "<div>\n",
       "<style scoped>\n",
       "    .dataframe tbody tr th:only-of-type {\n",
       "        vertical-align: middle;\n",
       "    }\n",
       "\n",
       "    .dataframe tbody tr th {\n",
       "        vertical-align: top;\n",
       "    }\n",
       "\n",
       "    .dataframe thead th {\n",
       "        text-align: right;\n",
       "    }\n",
       "</style>\n",
       "<table border=\"1\" class=\"dataframe\">\n",
       "  <thead>\n",
       "    <tr style=\"text-align: right;\">\n",
       "      <th></th>\n",
       "      <th>score</th>\n",
       "    </tr>\n",
       "  </thead>\n",
       "  <tbody>\n",
       "    <tr>\n",
       "      <th>accuracy</th>\n",
       "      <td>0.839599</td>\n",
       "    </tr>\n",
       "    <tr>\n",
       "      <th>roc_auc</th>\n",
       "      <td>0.844751</td>\n",
       "    </tr>\n",
       "  </tbody>\n",
       "</table>\n",
       "</div>"
      ],
      "text/plain": [
       "             score\n",
       "accuracy  0.839599\n",
       "roc_auc   0.844751"
      ]
     },
     "metadata": {},
     "output_type": "display_data"
    },
    {
     "name": "stdout",
     "output_type": "stream",
     "text": [
      "========== Test results for model: adaboost_clf: ==========\n"
     ]
    },
    {
     "data": {
      "text/html": [
       "<div>\n",
       "<style scoped>\n",
       "    .dataframe tbody tr th:only-of-type {\n",
       "        vertical-align: middle;\n",
       "    }\n",
       "\n",
       "    .dataframe tbody tr th {\n",
       "        vertical-align: top;\n",
       "    }\n",
       "\n",
       "    .dataframe thead th {\n",
       "        text-align: right;\n",
       "    }\n",
       "</style>\n",
       "<table border=\"1\" class=\"dataframe\">\n",
       "  <thead>\n",
       "    <tr style=\"text-align: right;\">\n",
       "      <th></th>\n",
       "      <th>score</th>\n",
       "    </tr>\n",
       "  </thead>\n",
       "  <tbody>\n",
       "    <tr>\n",
       "      <th>accuracy</th>\n",
       "      <td>0.838400</td>\n",
       "    </tr>\n",
       "    <tr>\n",
       "      <th>roc_auc</th>\n",
       "      <td>0.847113</td>\n",
       "    </tr>\n",
       "  </tbody>\n",
       "</table>\n",
       "</div>"
      ],
      "text/plain": [
       "             score\n",
       "accuracy  0.838400\n",
       "roc_auc   0.847113"
      ]
     },
     "metadata": {},
     "output_type": "display_data"
    },
    {
     "name": "stdout",
     "output_type": "stream",
     "text": [
      "========== Test results for model: gs_adaboost_clf: ==========\n"
     ]
    },
    {
     "data": {
      "text/html": [
       "<div>\n",
       "<style scoped>\n",
       "    .dataframe tbody tr th:only-of-type {\n",
       "        vertical-align: middle;\n",
       "    }\n",
       "\n",
       "    .dataframe tbody tr th {\n",
       "        vertical-align: top;\n",
       "    }\n",
       "\n",
       "    .dataframe thead th {\n",
       "        text-align: right;\n",
       "    }\n",
       "</style>\n",
       "<table border=\"1\" class=\"dataframe\">\n",
       "  <thead>\n",
       "    <tr style=\"text-align: right;\">\n",
       "      <th></th>\n",
       "      <th>score</th>\n",
       "    </tr>\n",
       "  </thead>\n",
       "  <tbody>\n",
       "    <tr>\n",
       "      <th>accuracy</th>\n",
       "      <td>0.838400</td>\n",
       "    </tr>\n",
       "    <tr>\n",
       "      <th>roc_auc</th>\n",
       "      <td>0.847113</td>\n",
       "    </tr>\n",
       "  </tbody>\n",
       "</table>\n",
       "</div>"
      ],
      "text/plain": [
       "             score\n",
       "accuracy  0.838400\n",
       "roc_auc   0.847113"
      ]
     },
     "metadata": {},
     "output_type": "display_data"
    },
    {
     "name": "stdout",
     "output_type": "stream",
     "text": [
      "========== Test results for model: gbt_clf: ==========\n"
     ]
    },
    {
     "data": {
      "text/html": [
       "<div>\n",
       "<style scoped>\n",
       "    .dataframe tbody tr th:only-of-type {\n",
       "        vertical-align: middle;\n",
       "    }\n",
       "\n",
       "    .dataframe tbody tr th {\n",
       "        vertical-align: top;\n",
       "    }\n",
       "\n",
       "    .dataframe thead th {\n",
       "        text-align: right;\n",
       "    }\n",
       "</style>\n",
       "<table border=\"1\" class=\"dataframe\">\n",
       "  <thead>\n",
       "    <tr style=\"text-align: right;\">\n",
       "      <th></th>\n",
       "      <th>score</th>\n",
       "    </tr>\n",
       "  </thead>\n",
       "  <tbody>\n",
       "    <tr>\n",
       "      <th>accuracy</th>\n",
       "      <td>0.840497</td>\n",
       "    </tr>\n",
       "    <tr>\n",
       "      <th>roc_auc</th>\n",
       "      <td>0.852120</td>\n",
       "    </tr>\n",
       "  </tbody>\n",
       "</table>\n",
       "</div>"
      ],
      "text/plain": [
       "             score\n",
       "accuracy  0.840497\n",
       "roc_auc   0.852120"
      ]
     },
     "metadata": {},
     "output_type": "display_data"
    },
    {
     "name": "stdout",
     "output_type": "stream",
     "text": [
      "========== Test results for model: gs_gbt: ==========\n"
     ]
    },
    {
     "data": {
      "text/html": [
       "<div>\n",
       "<style scoped>\n",
       "    .dataframe tbody tr th:only-of-type {\n",
       "        vertical-align: middle;\n",
       "    }\n",
       "\n",
       "    .dataframe tbody tr th {\n",
       "        vertical-align: top;\n",
       "    }\n",
       "\n",
       "    .dataframe thead th {\n",
       "        text-align: right;\n",
       "    }\n",
       "</style>\n",
       "<table border=\"1\" class=\"dataframe\">\n",
       "  <thead>\n",
       "    <tr style=\"text-align: right;\">\n",
       "      <th></th>\n",
       "      <th>score</th>\n",
       "    </tr>\n",
       "  </thead>\n",
       "  <tbody>\n",
       "    <tr>\n",
       "      <th>accuracy</th>\n",
       "      <td>0.840497</td>\n",
       "    </tr>\n",
       "    <tr>\n",
       "      <th>roc_auc</th>\n",
       "      <td>0.852120</td>\n",
       "    </tr>\n",
       "  </tbody>\n",
       "</table>\n",
       "</div>"
      ],
      "text/plain": [
       "             score\n",
       "accuracy  0.840497\n",
       "roc_auc   0.852120"
      ]
     },
     "metadata": {},
     "output_type": "display_data"
    },
    {
     "name": "stdout",
     "output_type": "stream",
     "text": [
      "========== Test results for model: hgbt_clf: ==========\n"
     ]
    },
    {
     "data": {
      "text/html": [
       "<div>\n",
       "<style scoped>\n",
       "    .dataframe tbody tr th:only-of-type {\n",
       "        vertical-align: middle;\n",
       "    }\n",
       "\n",
       "    .dataframe tbody tr th {\n",
       "        vertical-align: top;\n",
       "    }\n",
       "\n",
       "    .dataframe thead th {\n",
       "        text-align: right;\n",
       "    }\n",
       "</style>\n",
       "<table border=\"1\" class=\"dataframe\">\n",
       "  <thead>\n",
       "    <tr style=\"text-align: right;\">\n",
       "      <th></th>\n",
       "      <th>score</th>\n",
       "    </tr>\n",
       "  </thead>\n",
       "  <tbody>\n",
       "    <tr>\n",
       "      <th>accuracy</th>\n",
       "      <td>0.842444</td>\n",
       "    </tr>\n",
       "    <tr>\n",
       "      <th>roc_auc</th>\n",
       "      <td>0.853069</td>\n",
       "    </tr>\n",
       "  </tbody>\n",
       "</table>\n",
       "</div>"
      ],
      "text/plain": [
       "             score\n",
       "accuracy  0.842444\n",
       "roc_auc   0.853069"
      ]
     },
     "metadata": {},
     "output_type": "display_data"
    },
    {
     "name": "stdout",
     "output_type": "stream",
     "text": [
      "========== Test results for model: gs_hgbt: ==========\n"
     ]
    },
    {
     "data": {
      "text/html": [
       "<div>\n",
       "<style scoped>\n",
       "    .dataframe tbody tr th:only-of-type {\n",
       "        vertical-align: middle;\n",
       "    }\n",
       "\n",
       "    .dataframe tbody tr th {\n",
       "        vertical-align: top;\n",
       "    }\n",
       "\n",
       "    .dataframe thead th {\n",
       "        text-align: right;\n",
       "    }\n",
       "</style>\n",
       "<table border=\"1\" class=\"dataframe\">\n",
       "  <thead>\n",
       "    <tr style=\"text-align: right;\">\n",
       "      <th></th>\n",
       "      <th>score</th>\n",
       "    </tr>\n",
       "  </thead>\n",
       "  <tbody>\n",
       "    <tr>\n",
       "      <th>accuracy</th>\n",
       "      <td>0.844691</td>\n",
       "    </tr>\n",
       "    <tr>\n",
       "      <th>roc_auc</th>\n",
       "      <td>0.853788</td>\n",
       "    </tr>\n",
       "  </tbody>\n",
       "</table>\n",
       "</div>"
      ],
      "text/plain": [
       "             score\n",
       "accuracy  0.844691\n",
       "roc_auc   0.853788"
      ]
     },
     "metadata": {},
     "output_type": "display_data"
    }
   ],
   "source": [
    "#### Comparing test results\n",
    "\n",
    "for name, model in models_dict['models'].items():\n",
    "    print('='*10 + f' Test results for model: {name}: ' + '='*10)\n",
    "    display(model_cv_results(model, X_test_scaled, y_test, cv=False))"
   ]
  },
  {
   "cell_type": "code",
   "execution_count": 69,
   "metadata": {},
   "outputs": [
    {
     "name": "stdout",
     "output_type": "stream",
     "text": [
      "Notebook run in 802.5768165588379 seconds\n"
     ]
    }
   ],
   "source": [
    "# Total time:\n",
    "print(f'Notebook run in {time.time() - start_time} seconds')"
   ]
  },
  {
   "cell_type": "code",
   "execution_count": 70,
   "metadata": {},
   "outputs": [],
   "source": [
    "model_names = []\n",
    "train_scores = []\n",
    "mean_cv_scores = []\n",
    "deltas = []\n",
    "\n",
    "for name, results in models_dict['results'].items():\n",
    "    model_names.append(name)\n",
    "    auc_scores = results.loc['roc_auc']\n",
    "    train = auc_scores['train_score']\n",
    "    cv = auc_scores['mean_cv_score']\n",
    "    d = abs(train - cv)\n",
    "    train_scores.append(train)\n",
    "    mean_cv_scores.append(cv)\n",
    "    deltas.append(d)"
   ]
  },
  {
   "cell_type": "code",
   "execution_count": 71,
   "metadata": {},
   "outputs": [
    {
     "data": {
      "text/plain": [
       "[('gs_hgbt', 0.8681672354081688),\n",
       " ('hgbt_clf', 0.8680208593616282),\n",
       " ('gbt_clf', 0.8674160384683154),\n",
       " ('gs_gbt', 0.8674160384683154),\n",
       " ('gs_rfc', 0.8626037818422996),\n",
       " ('adaboost_clf', 0.8616926720535739),\n",
       " ('gs_adaboost_clf', 0.8616926720535739),\n",
       " ('rfc', 0.8583844183021208),\n",
       " ('gs_logreg', 0.8363725420387901),\n",
       " ('logreg', 0.8363706742531132)]"
      ]
     },
     "execution_count": 71,
     "metadata": {},
     "output_type": "execute_result"
    }
   ],
   "source": [
    "sorted(list(zip(model_names, mean_cv_scores)), key=lambda x: x[1], reverse=True)"
   ]
  },
  {
   "cell_type": "code",
   "execution_count": 72,
   "metadata": {},
   "outputs": [
    {
     "data": {
      "text/plain": [
       "[('gs_logreg', 0.002825642414514662),\n",
       " ('logreg', 0.0028280183079398835),\n",
       " ('adaboost_clf', 0.003888387040537844),\n",
       " ('gs_adaboost_clf', 0.003888387040537844),\n",
       " ('gbt_clf', 0.011611337495447294),\n",
       " ('gs_gbt', 0.011611337495447294),\n",
       " ('gs_hgbt', 0.029920188744233855),\n",
       " ('hgbt_clf', 0.03487040224764393),\n",
       " ('gs_rfc', 0.06391528958600823),\n",
       " ('rfc', 0.14161558169787924)]"
      ]
     },
     "execution_count": 72,
     "metadata": {},
     "output_type": "execute_result"
    }
   ],
   "source": [
    "sorted(list(zip(model_names, deltas)), key=lambda x: x[1], reverse=False)"
   ]
  },
  {
   "cell_type": "code",
   "execution_count": 73,
   "metadata": {},
   "outputs": [
    {
     "data": {
      "text/plain": [
       "<BarContainer object of 10 artists>"
      ]
     },
     "execution_count": 73,
     "metadata": {},
     "output_type": "execute_result"
    },
    {
     "data": {
      "image/png": "[encoded data removed]",
      "text/plain": [
       "<Figure size 1440x1440 with 2 Axes>"
      ]
     },
     "metadata": {},
     "output_type": "display_data"
    }
   ],
   "source": [
    "x = np.arange(len(model_names))  # the label locations\n",
    "width = 0.35  # the width of the bars\n",
    "\n",
    "fig, ax = plt.subplots(nrows=2, figsize=(20, 20))\n",
    "ax[0].bar(x - width/2, train_scores, label='Training Scores', width=width)\n",
    "ax[0].bar(x + width/2, mean_cv_scores, label='Mean CV Scores', width=width)\n",
    "ax[0].set_xticks(list(range(len(model_names))))\n",
    "ax[0].set_xticklabels(model_names)\n",
    "ax[0].set(ylim=(.5, 1.05))\n",
    "ax[0].set_yticks(np.arange(.6,1.05,.05))\n",
    "ax[0].legend()\n",
    "\n",
    "ax[1].bar(model_names, deltas, color='green', width=width)"
   ]
  },
  {
   "cell_type": "code",
   "execution_count": 74,
   "metadata": {},
   "outputs": [],
   "source": [
    "test_model_names = []\n",
    "test_scores = []\n",
    "\n",
    "for name, model in models_dict['models'].items():\n",
    "    test_results = model_cv_results(model, X_test_scaled, y_test, cv=False)\n",
    "    test_auc_score = test_results.loc['roc_auc']['score']\n",
    "    test_model_names.append(name)\n",
    "    test_scores.append(test_auc_score)"
   ]
  },
  {
   "cell_type": "code",
   "execution_count": 75,
   "metadata": {},
   "outputs": [
    {
     "data": {
      "text/plain": [
       "<matplotlib.legend.Legend at 0x1a75ada10d0>"
      ]
     },
     "execution_count": 75,
     "metadata": {},
     "output_type": "execute_result"
    },
    {
     "data": {
      "image/png": "[encoded data removed]",
      "text/plain": [
       "<Figure size 1440x720 with 1 Axes>"
      ]
     },
     "metadata": {},
     "output_type": "display_data"
    }
   ],
   "source": [
    "fig, ax = plt.subplots(figsize=(20, 10))\n",
    "ax.bar(x + width/2, test_scores, width=width, label='Test Scores')\n",
    "ax.bar(x - width/2, mean_cv_scores, label='Mean CV Scores', width=width)\n",
    "ax.set_xticks(list(range(len(test_model_names))))\n",
    "ax.set_xticklabels(test_model_names)\n",
    "ax.set_ylim(.7, .9)\n",
    "ax.legend()"
   ]
  },
  {
   "cell_type": "code",
   "execution_count": 76,
   "metadata": {},
   "outputs": [],
   "source": [
    "### Feature importances"
   ]
  },
  {
   "cell_type": "code",
   "execution_count": 77,
   "metadata": {},
   "outputs": [],
   "source": [
    "def plot_feature_importances(\n",
    "    model, features=X_train_scaled.columns.tolist(), return_df=False, \n",
    "    cutoff=0, figsize=(5,13), regression=False\n",
    "    ):\n",
    "\n",
    "    \"\"\"\n",
    "    Plots the feature importances of a model. Can also return DataFrame of those importances\n",
    "    if specified. \n",
    "    Defaults to work with tree based models. Set `regresssion` to True in order to plot\n",
    "    the coefficients of regression models.\n",
    "    \"\"\"\n",
    "    if regression:\n",
    "        df = pd.DataFrame(\n",
    "            zip(X_train_scaled.columns.tolist(), np.abs(model.coef_).tolist()[0]),\n",
    "            columns=['feature', 'importance']\n",
    "        ).sort_values(by='importance', ascending=True)[-cutoff:]\n",
    "    else:\n",
    "        df = pd.DataFrame(\n",
    "            zip(X_train_scaled.columns.tolist(), model.feature_importances_.tolist()),\n",
    "            columns=['feature', 'importance']\n",
    "        ).sort_values(by='importance', ascending=True)[-cutoff:]\n",
    "\n",
    "    fig, ax = plt.subplots(figsize=figsize)\n",
    "    ax.barh(y=df['feature'], width=df['importance'])\n",
    "    if cutoff != 0:\n",
    "        ax.set_title(f'Top {cutoff} features in the model')\n",
    "    else:\n",
    "        ax.set_title(f'Feature importances')\n",
    "    plt.show();\n",
    "\n",
    "    if return_df:\n",
    "        return df[::-1]"
   ]
  },
  {
   "cell_type": "code",
   "execution_count": 78,
   "metadata": {},
   "outputs": [
    {
     "data": {
      "image/png": "[encoded data removed]",
      "text/plain": [
       "<Figure size 360x936 with 1 Axes>"
      ]
     },
     "metadata": {},
     "output_type": "display_data"
    }
   ],
   "source": [
    "plot_feature_importances(gbt_clf)"
   ]
  }
 ],
 "metadata": {
  "interpreter": {
   "hash": "9066515e2c74396c3dc22ac47132aa38294e007e809df6151bffa6da73189c66"
  },
  "kernelspec": {
   "display_name": "Python (learn-env)",
   "language": "python",
   "name": "learn-env"
  },
  "language_info": {
   "codemirror_mode": {
    "name": "ipython",
    "version": 3
   },
   "file_extension": ".py",
   "mimetype": "text/x-python",
   "name": "python",
   "nbconvert_exporter": "python",
   "pygments_lexer": "ipython3",
   "version": "3.8.5"
  }
 },
 "nbformat": 4,
 "nbformat_minor": 2
}
